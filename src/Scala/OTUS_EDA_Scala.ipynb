{
 "cells": [
  {
   "cell_type": "code",
   "execution_count": 1,
   "id": "b167fe1d",
   "metadata": {
    "scrolled": true
   },
   "outputs": [
    {
     "name": "stdout",
     "output_type": "stream",
     "text": [
      "Loading spark-stubs\n",
      "Getting spark JARs\n",
      "Creating SparkSession\n"
     ]
    },
    {
     "name": "stderr",
     "output_type": "stream",
     "text": [
      "Using Spark's default log4j profile: org/apache/spark/log4j-defaults.properties\n"
     ]
    },
    {
     "data": {
      "text/html": [
       "<a target=\"_blank\" href=\"http://192.168.88.79:4040\">Spark UI</a>"
      ]
     },
     "metadata": {},
     "output_type": "display_data"
    },
    {
     "data": {
      "text/plain": [
       "\u001b[32mimport \u001b[39m\u001b[36m$ivy.$                                  \n",
       "\n",
       "\u001b[39m\n",
       "\u001b[32mimport \u001b[39m\u001b[36morg.apache.log4j.{Level, Logger}\n",
       "\u001b[39m\n",
       "\u001b[32mimport \u001b[39m\u001b[36morg.apache.spark.sql._\n",
       "\u001b[39m\n",
       "\u001b[32mimport \u001b[39m\u001b[36morg.apache.spark.sql.types._\n",
       "\n",
       "\u001b[39m\n",
       "\u001b[36mspark\u001b[39m: \u001b[32mSparkSession\u001b[39m = org.apache.spark.sql.SparkSession@11d8268e"
      ]
     },
     "execution_count": 1,
     "metadata": {},
     "output_type": "execute_result"
    }
   ],
   "source": [
    "import $ivy.`org.apache.spark::spark-sql:2.4.5`\n",
    "\n",
    "import org.apache.log4j.{Level, Logger}\n",
    "Logger.getLogger(\"org\").setLevel(Level.OFF)\n",
    "\n",
    "import org.apache.spark.sql._\n",
    "import org.apache.spark.sql.types._\n",
    "\n",
    "val spark = NotebookSparkSession\n",
    "    .builder()\n",
    "    .appName(\"OTUS_ETL\")\n",
    "    .master(\"local[*]\")\n",
    "    .getOrCreate()"
   ]
  },
  {
   "cell_type": "code",
   "execution_count": 2,
   "id": "0a6aaabb",
   "metadata": {},
   "outputs": [
    {
     "data": {
      "text/plain": [
       "\u001b[32mimport \u001b[39m\u001b[36mspark.implicits._\u001b[39m"
      ]
     },
     "execution_count": 2,
     "metadata": {},
     "output_type": "execute_result"
    }
   ],
   "source": [
    "import spark.implicits._"
   ]
  },
  {
   "cell_type": "code",
   "execution_count": 2,
   "id": "ae64648b",
   "metadata": {},
   "outputs": [],
   "source": [
    "//def sc = spark.sparkContext"
   ]
  },
  {
   "cell_type": "code",
   "execution_count": 2,
   "id": "52673cc3",
   "metadata": {},
   "outputs": [],
   "source": [
    "//val RawRDD = sc.textFile(\"../../../fraud-data/2019-08-22.txt\")"
   ]
  },
  {
   "cell_type": "code",
   "execution_count": 3,
   "id": "b66fc79b",
   "metadata": {},
   "outputs": [
    {
     "data": {
      "text/plain": [
       "\u001b[36mfilepath\u001b[39m: \u001b[32mString\u001b[39m = \u001b[32m\"OTUS/fraud-data/2019-08-22.txt\"\u001b[39m\n",
       "\u001b[36mcustomSchema\u001b[39m: \u001b[32mStructType\u001b[39m = \u001b[33mStructType\u001b[39m(\n",
       "  \u001b[33mStructField\u001b[39m(\u001b[32m\"tranaction_id\"\u001b[39m, IntegerType, true, {}),\n",
       "  \u001b[33mStructField\u001b[39m(\u001b[32m\"tx_datetime\"\u001b[39m, TimestampType, true, {}),\n",
       "  \u001b[33mStructField\u001b[39m(\u001b[32m\"customer_id\"\u001b[39m, IntegerType, true, {}),\n",
       "  \u001b[33mStructField\u001b[39m(\u001b[32m\"terminal_id\"\u001b[39m, IntegerType, true, {}),\n",
       "  \u001b[33mStructField\u001b[39m(\u001b[32m\"tx_amount\"\u001b[39m, DoubleType, true, {}),\n",
       "  \u001b[33mStructField\u001b[39m(\u001b[32m\"tx_time_seconds\"\u001b[39m, IntegerType, true, {}),\n",
       "  \u001b[33mStructField\u001b[39m(\u001b[32m\"tx_time_days\"\u001b[39m, IntegerType, true, {}),\n",
       "  \u001b[33mStructField\u001b[39m(\u001b[32m\"tx_fraud\"\u001b[39m, IntegerType, true, {}),\n",
       "  \u001b[33mStructField\u001b[39m(\u001b[32m\"tx_fraud_scenario\"\u001b[39m, IntegerType, true, {})\n",
       ")\n",
       "\u001b[36mRawTransactions\u001b[39m: \u001b[32mDataFrame\u001b[39m = [tranaction_id: int, tx_datetime: timestamp ... 7 more fields]"
      ]
     },
     "execution_count": 3,
     "metadata": {},
     "output_type": "execute_result"
    }
   ],
   "source": [
    "val filepath = \"../../../fraud-data/2019-08-22.txt\"\n",
    "\n",
    "val customSchema = StructType(\n",
    "    Seq(\n",
    "        StructField(\"tranaction_id\", IntegerType, true),\n",
    "        StructField(\"tx_datetime\", TimestampType, true),\n",
    "        StructField(\"customer_id\", IntegerType, true),\n",
    "        StructField(\"terminal_id\", IntegerType, true),\n",
    "        StructField(\"tx_amount\", DoubleType, true),\n",
    "        StructField(\"tx_time_seconds\", IntegerType, true),\n",
    "        StructField(\"tx_time_days\", IntegerType, true),\n",
    "        StructField(\"tx_fraud\", IntegerType, true),\n",
    "        StructField(\"tx_fraud_scenario\", IntegerType, true)\n",
    "    )\n",
    ")\n",
    "\n",
    "val RawTransactions = spark.read // SparkSession\n",
    "  .option(\"header\", true)\n",
    "  .option(\"delimiter\", \",\")\n",
    "  .option(\"inferSchema\", \"false\")\n",
    "  .schema(customSchema)\n",
    "  .csv(filepath)"
   ]
  },
  {
   "cell_type": "code",
   "execution_count": 4,
   "id": "69d621cd",
   "metadata": {},
   "outputs": [
    {
     "name": "stdout",
     "output_type": "stream",
     "text": [
      "root\n",
      " |-- tranaction_id: integer (nullable = true)\n",
      " |-- tx_datetime: timestamp (nullable = true)\n",
      " |-- customer_id: integer (nullable = true)\n",
      " |-- terminal_id: integer (nullable = true)\n",
      " |-- tx_amount: double (nullable = true)\n",
      " |-- tx_time_seconds: integer (nullable = true)\n",
      " |-- tx_time_days: integer (nullable = true)\n",
      " |-- tx_fraud: integer (nullable = true)\n",
      " |-- tx_fraud_scenario: integer (nullable = true)\n",
      "\n"
     ]
    },
    {
     "data": {
      "text/html": [
       "<script>\n",
       "var comm = Jupyter.notebook.kernel.comm_manager.new_comm('cancel-stage-f8fa9a61-db4c-4ab4-8bca-80631f479c6e', {});\n",
       "\n",
       "function cancelStage(stageId) {\n",
       "  console.log('Cancelling stage ' + stageId);\n",
       "  comm.send({ 'stageId': stageId });\n",
       "}\n",
       "</script>\n",
       "          "
      ]
     },
     "metadata": {},
     "output_type": "display_data"
    },
    {
     "data": {
      "text/html": [
       "<div>\n",
       "  <span style=\"float: left;\">show at cmd3.sc:3</span>\n",
       "</div>\n"
      ]
     },
     "metadata": {},
     "output_type": "display_data"
    },
    {
     "data": {
      "text/html": [
       "<div class=\"progress\">\n",
       "  <div class=\"progress-bar\" role=\"progressbar\" style=\"background-color: blue; width: 100%; word-wrap: normal; white-space: nowrap; text-align: center; color: white\" aria-valuenow=\"100\" aria-valuemin=\"0\" aria-valuemax=\"100\">\n",
       "    1 / 1\n",
       "  </div>\n",
       "  <div class=\"progress-bar\" role=\"progressbar\" style=\"background-color: red; width: 0%\" aria-valuenow=\"0\" aria-valuemin=\"0\" aria-valuemax=\"100\"></div>\n",
       "</div>\n"
      ]
     },
     "metadata": {},
     "output_type": "display_data"
    },
    {
     "name": "stdout",
     "output_type": "stream",
     "text": [
      "+-------------+-------------------+-----------+-----------+---------+---------------+------------+--------+-----------------+\n",
      "|tranaction_id|        tx_datetime|customer_id|terminal_id|tx_amount|tx_time_seconds|tx_time_days|tx_fraud|tx_fraud_scenario|\n",
      "+-------------+-------------------+-----------+-----------+---------+---------------+------------+--------+-----------------+\n",
      "|            0|2019-08-22 06:51:03|          0|        711|    70.91|          24663|           0|       0|                0|\n",
      "|            1|2019-08-22 05:10:37|          0|          0|    90.55|          18637|           0|       0|                0|\n",
      "|            2|2019-08-22 19:05:33|          0|        753|    35.38|          68733|           0|       0|                0|\n",
      "|            3|2019-08-22 07:21:33|          0|          0|    80.41|          26493|           0|       0|                0|\n",
      "|            4|2019-08-22 09:06:17|          1|        981|   102.83|          32777|           0|       0|                0|\n",
      "|            5|2019-08-22 18:41:25|          3|        205|     34.2|          67285|           0|       0|                0|\n",
      "|            6|2019-08-22 03:12:21|          3|          0|     47.2|          11541|           0|       0|                0|\n",
      "|            7|2019-08-22 22:36:40|          6|        809|   139.39|          81400|           0|       0|                0|\n",
      "|            8|2019-08-22 17:23:29|          7|        184|    87.24|          62609|           0|       0|                0|\n",
      "|            9|2019-08-22 21:09:37|          8|        931|     61.7|          76177|           0|       0|                0|\n",
      "+-------------+-------------------+-----------+-----------+---------+---------------+------------+--------+-----------------+\n",
      "only showing top 10 rows\n",
      "\n"
     ]
    },
    {
     "data": {
      "text/html": [
       "<div>\n",
       "  <span style=\"float: left;\">count at cmd3.sc:5</span>\n",
       "</div>\n"
      ]
     },
     "metadata": {},
     "output_type": "display_data"
    },
    {
     "data": {
      "text/html": [
       "<div class=\"progress\">\n",
       "  <div class=\"progress-bar\" role=\"progressbar\" style=\"background-color: blue; width: 100%; word-wrap: normal; white-space: nowrap; text-align: center; color: white\" aria-valuenow=\"100\" aria-valuemin=\"0\" aria-valuemax=\"100\">\n",
       "    21 / 21\n",
       "  </div>\n",
       "  <div class=\"progress-bar\" role=\"progressbar\" style=\"background-color: red; width: 0%\" aria-valuenow=\"0\" aria-valuemin=\"0\" aria-valuemax=\"100\"></div>\n",
       "</div>\n"
      ]
     },
     "metadata": {},
     "output_type": "display_data"
    },
    {
     "data": {
      "text/html": [
       "<div>\n",
       "  <span style=\"float: left;\">count at cmd3.sc:5</span>\n",
       "</div>\n"
      ]
     },
     "metadata": {},
     "output_type": "display_data"
    },
    {
     "data": {
      "text/html": [
       "<div class=\"progress\">\n",
       "  <div class=\"progress-bar\" role=\"progressbar\" style=\"background-color: blue; width: 100%; word-wrap: normal; white-space: nowrap; text-align: center; color: white\" aria-valuenow=\"100\" aria-valuemin=\"0\" aria-valuemax=\"100\">\n",
       "    1 / 1\n",
       "  </div>\n",
       "  <div class=\"progress-bar\" role=\"progressbar\" style=\"background-color: red; width: 0%\" aria-valuenow=\"0\" aria-valuemin=\"0\" aria-valuemax=\"100\"></div>\n",
       "</div>\n"
      ]
     },
     "metadata": {},
     "output_type": "display_data"
    },
    {
     "name": "stdout",
     "output_type": "stream",
     "text": [
      "46988418\n"
     ]
    },
    {
     "data": {
      "text/html": [
       "<div>\n",
       "  <span style=\"float: left;\">describe at cmd3.sc:7</span>\n",
       "</div>\n"
      ]
     },
     "metadata": {},
     "output_type": "display_data"
    },
    {
     "data": {
      "text/html": [
       "<div class=\"progress\">\n",
       "  <div class=\"progress-bar\" role=\"progressbar\" style=\"background-color: blue; width: 100%; word-wrap: normal; white-space: nowrap; text-align: center; color: white\" aria-valuenow=\"100\" aria-valuemin=\"0\" aria-valuemax=\"100\">\n",
       "    21 / 21\n",
       "  </div>\n",
       "  <div class=\"progress-bar\" role=\"progressbar\" style=\"background-color: red; width: 0%\" aria-valuenow=\"0\" aria-valuemin=\"0\" aria-valuemax=\"100\"></div>\n",
       "</div>\n"
      ]
     },
     "metadata": {},
     "output_type": "display_data"
    },
    {
     "data": {
      "text/html": [
       "<div>\n",
       "  <span style=\"float: left;\">describe at cmd3.sc:7</span>\n",
       "</div>\n"
      ]
     },
     "metadata": {},
     "output_type": "display_data"
    },
    {
     "data": {
      "text/html": [
       "<div class=\"progress\">\n",
       "  <div class=\"progress-bar\" role=\"progressbar\" style=\"background-color: blue; width: 100%; word-wrap: normal; white-space: nowrap; text-align: center; color: white\" aria-valuenow=\"100\" aria-valuemin=\"0\" aria-valuemax=\"100\">\n",
       "    1 / 1\n",
       "  </div>\n",
       "  <div class=\"progress-bar\" role=\"progressbar\" style=\"background-color: red; width: 0%\" aria-valuenow=\"0\" aria-valuemin=\"0\" aria-valuemax=\"100\"></div>\n",
       "</div>\n"
      ]
     },
     "metadata": {},
     "output_type": "display_data"
    },
    {
     "name": "stdout",
     "output_type": "stream",
     "text": [
      "+-------+--------------------+------------------+------------------+-----------------+------------------+----------------+-------------------+-------------------+\n",
      "|summary|       tranaction_id|       customer_id|       terminal_id|        tx_amount|   tx_time_seconds|    tx_time_days|           tx_fraud|  tx_fraud_scenario|\n",
      "+-------+--------------------+------------------+------------------+-----------------+------------------+----------------+-------------------+-------------------+\n",
      "|  count|            46988418|          46988418|          46988418|         46988418|          46988418|        46988418|           46988418|           46988418|\n",
      "|   mean|2.3494115552178305E7|500433.83151635365|26597.231571533222| 54.2339599945673|1296054.5003670265|14.5006346883183|0.05377931642644364|0.10841507794537794|\n",
      "| stddev|1.3564333711807257E7| 288539.1737685039|1528137.6620335372|41.25033514383644|  748049.508734945|8.65541588439431|0.22558169835808653| 0.4568780500029875|\n",
      "|    min|                   0|           -999999|                 0|              0.0|                 0|               0|                  0|                  0|\n",
      "|    max|            46988236|            999999|          89518096|          3773.34|           2592000|              29|                  1|                  3|\n",
      "+-------+--------------------+------------------+------------------+-----------------+------------------+----------------+-------------------+-------------------+\n",
      "\n"
     ]
    },
    {
     "data": {
      "text/html": [
       "<div>\n",
       "  <span style=\"float: left;\">summary at cmd3.sc:9</span>\n",
       "</div>\n"
      ]
     },
     "metadata": {},
     "output_type": "display_data"
    },
    {
     "data": {
      "text/html": [
       "<div class=\"progress\">\n",
       "  <div class=\"progress-bar\" role=\"progressbar\" style=\"background-color: blue; width: 100%; word-wrap: normal; white-space: nowrap; text-align: center; color: white\" aria-valuenow=\"100\" aria-valuemin=\"0\" aria-valuemax=\"100\">\n",
       "    21 / 21\n",
       "  </div>\n",
       "  <div class=\"progress-bar\" role=\"progressbar\" style=\"background-color: red; width: 0%\" aria-valuenow=\"0\" aria-valuemin=\"0\" aria-valuemax=\"100\"></div>\n",
       "</div>\n"
      ]
     },
     "metadata": {},
     "output_type": "display_data"
    },
    {
     "data": {
      "text/html": [
       "<div>\n",
       "  <span style=\"float: left;\">summary at cmd3.sc:9</span>\n",
       "</div>\n"
      ]
     },
     "metadata": {},
     "output_type": "display_data"
    },
    {
     "data": {
      "text/html": [
       "<div class=\"progress\">\n",
       "  <div class=\"progress-bar\" role=\"progressbar\" style=\"background-color: blue; width: 100%; word-wrap: normal; white-space: nowrap; text-align: center; color: white\" aria-valuenow=\"100\" aria-valuemin=\"0\" aria-valuemax=\"100\">\n",
       "    1 / 1\n",
       "  </div>\n",
       "  <div class=\"progress-bar\" role=\"progressbar\" style=\"background-color: red; width: 0%\" aria-valuenow=\"0\" aria-valuemin=\"0\" aria-valuemax=\"100\"></div>\n",
       "</div>\n"
      ]
     },
     "metadata": {},
     "output_type": "display_data"
    },
    {
     "name": "stdout",
     "output_type": "stream",
     "text": [
      "+-------+--------------------+------------------+------------------+-----------------+------------------+----------------+-------------------+-------------------+\n",
      "|summary|       tranaction_id|       customer_id|       terminal_id|        tx_amount|   tx_time_seconds|    tx_time_days|           tx_fraud|  tx_fraud_scenario|\n",
      "+-------+--------------------+------------------+------------------+-----------------+------------------+----------------+-------------------+-------------------+\n",
      "|  count|            46988418|          46988418|          46988418|         46988418|          46988418|        46988418|           46988418|           46988418|\n",
      "|   mean|2.3494115552178305E7|500433.83151635365|26597.231571533222| 54.2339599945673|1296054.5003670265|14.5006346883183|0.05377931642644364|0.10841507794537794|\n",
      "| stddev|1.3564333711807257E7| 288539.1737685039|1528137.6620335372|41.25033514383644|  748049.508734945|8.65541588439431|0.22558169835808653| 0.4568780500029875|\n",
      "|    min|                   0|           -999999|                 0|              0.0|                 0|               0|                  0|                  0|\n",
      "|    25%|            11747423|            250773|               198|            21.96|            648121|               7|                  0|                  0|\n",
      "|    50%|            23492747|            500846|               511|            45.42|           1296000|              14|                  0|                  0|\n",
      "|    75%|            35242438|            750218|               797|            77.79|           1944045|              22|                  0|                  0|\n",
      "|    max|            46988236|            999999|          89518096|          3773.34|           2592000|              29|                  1|                  3|\n",
      "+-------+--------------------+------------------+------------------+-----------------+------------------+----------------+-------------------+-------------------+\n",
      "\n"
     ]
    }
   ],
   "source": [
    "RawTransactions.printSchema\n",
    "\n",
    "RawTransactions.show(10)\n",
    "\n",
    "println(RawTransactions.count)\n",
    "\n",
    "RawTransactions.describe().show()\n",
    "\n",
    "RawTransactions.summary().show()"
   ]
  },
  {
   "cell_type": "code",
   "execution_count": 5,
   "id": "0bcfbd6d",
   "metadata": {},
   "outputs": [
    {
     "data": {
      "text/html": [
       "<div>\n",
       "  <span style=\"float: left;\">summary at cmd4.sc:2</span>\n",
       "</div>\n"
      ]
     },
     "metadata": {},
     "output_type": "display_data"
    },
    {
     "data": {
      "text/html": [
       "<div class=\"progress\">\n",
       "  <div class=\"progress-bar\" role=\"progressbar\" style=\"background-color: blue; width: 100%; word-wrap: normal; white-space: nowrap; text-align: center; color: white\" aria-valuenow=\"100\" aria-valuemin=\"0\" aria-valuemax=\"100\">\n",
       "    21 / 21\n",
       "  </div>\n",
       "  <div class=\"progress-bar\" role=\"progressbar\" style=\"background-color: red; width: 0%\" aria-valuenow=\"0\" aria-valuemin=\"0\" aria-valuemax=\"100\"></div>\n",
       "</div>\n"
      ]
     },
     "metadata": {},
     "output_type": "display_data"
    },
    {
     "data": {
      "text/html": [
       "<div>\n",
       "  <span style=\"float: left;\">summary at cmd4.sc:2</span>\n",
       "</div>\n"
      ]
     },
     "metadata": {},
     "output_type": "display_data"
    },
    {
     "data": {
      "text/html": [
       "<div class=\"progress\">\n",
       "  <div class=\"progress-bar\" role=\"progressbar\" style=\"background-color: blue; width: 100%; word-wrap: normal; white-space: nowrap; text-align: center; color: white\" aria-valuenow=\"100\" aria-valuemin=\"0\" aria-valuemax=\"100\">\n",
       "    1 / 1\n",
       "  </div>\n",
       "  <div class=\"progress-bar\" role=\"progressbar\" style=\"background-color: red; width: 0%\" aria-valuenow=\"0\" aria-valuemin=\"0\" aria-valuemax=\"100\"></div>\n",
       "</div>\n"
      ]
     },
     "metadata": {},
     "output_type": "display_data"
    },
    {
     "name": "stdout",
     "output_type": "stream",
     "text": [
      "+-------+--------------------+-----------------+\n",
      "|summary|       tranaction_id|        tx_amount|\n",
      "+-------+--------------------+-----------------+\n",
      "|  count|            46988418|         46988418|\n",
      "|   mean|2.3494115552178305E7| 54.2339599945673|\n",
      "| stddev|1.3564333711807257E7|41.25033514383644|\n",
      "|    min|                   0|              0.0|\n",
      "|    25%|            11747423|            21.96|\n",
      "|    50%|            23492747|            45.42|\n",
      "|    75%|            35242438|            77.79|\n",
      "|    max|            46988236|          3773.34|\n",
      "+-------+--------------------+-----------------+\n",
      "\n"
     ]
    },
    {
     "data": {
      "text/plain": [
       "\u001b[36mdf\u001b[39m: \u001b[32mDataFrame\u001b[39m = [tranaction_id: int, tx_amount: double]"
      ]
     },
     "execution_count": 5,
     "metadata": {},
     "output_type": "execute_result"
    }
   ],
   "source": [
    "val df = RawTransactions.select(\"tranaction_id\", \"tx_amount\")\n",
    "df.summary().show()"
   ]
  },
  {
   "cell_type": "code",
   "execution_count": 6,
   "id": "40468757",
   "metadata": {},
   "outputs": [
    {
     "data": {
      "text/plain": [
       "\u001b[36mdf\u001b[39m: \u001b[32mDataFrame\u001b[39m = [customer_id: int, terminal_id: int]"
      ]
     },
     "execution_count": 6,
     "metadata": {},
     "output_type": "execute_result"
    }
   ],
   "source": [
    "val df = RawTransactions.select(\"customer_id\", \"terminal_id\")"
   ]
  },
  {
   "cell_type": "code",
   "execution_count": 7,
   "id": "2ab64ca6",
   "metadata": {},
   "outputs": [
    {
     "data": {
      "text/html": [
       "<div>\n",
       "  <span style=\"float: left;\">summary at cmd6.sc:1</span>\n",
       "</div>\n"
      ]
     },
     "metadata": {},
     "output_type": "display_data"
    },
    {
     "data": {
      "text/html": [
       "<div class=\"progress\">\n",
       "  <div class=\"progress-bar\" role=\"progressbar\" style=\"background-color: blue; width: 100%; word-wrap: normal; white-space: nowrap; text-align: center; color: white\" aria-valuenow=\"100\" aria-valuemin=\"0\" aria-valuemax=\"100\">\n",
       "    21 / 21\n",
       "  </div>\n",
       "  <div class=\"progress-bar\" role=\"progressbar\" style=\"background-color: red; width: 0%\" aria-valuenow=\"0\" aria-valuemin=\"0\" aria-valuemax=\"100\"></div>\n",
       "</div>\n"
      ]
     },
     "metadata": {},
     "output_type": "display_data"
    },
    {
     "data": {
      "text/html": [
       "<div>\n",
       "  <span style=\"float: left;\">summary at cmd6.sc:1</span>\n",
       "</div>\n"
      ]
     },
     "metadata": {},
     "output_type": "display_data"
    },
    {
     "data": {
      "text/html": [
       "<div class=\"progress\">\n",
       "  <div class=\"progress-bar\" role=\"progressbar\" style=\"background-color: blue; width: 100%; word-wrap: normal; white-space: nowrap; text-align: center; color: white\" aria-valuenow=\"100\" aria-valuemin=\"0\" aria-valuemax=\"100\">\n",
       "    1 / 1\n",
       "  </div>\n",
       "  <div class=\"progress-bar\" role=\"progressbar\" style=\"background-color: red; width: 0%\" aria-valuenow=\"0\" aria-valuemin=\"0\" aria-valuemax=\"100\"></div>\n",
       "</div>\n"
      ]
     },
     "metadata": {},
     "output_type": "display_data"
    },
    {
     "name": "stdout",
     "output_type": "stream",
     "text": [
      "+-------+------------------+------------------+\n",
      "|summary|       customer_id|       terminal_id|\n",
      "+-------+------------------+------------------+\n",
      "|  count|          46988418|          46988418|\n",
      "|   mean|500433.83151635365|26597.231571533222|\n",
      "| stddev| 288539.1737685039|1528137.6620335372|\n",
      "|    min|           -999999|                 0|\n",
      "|    25%|            250773|               198|\n",
      "|    50%|            500846|               511|\n",
      "|    75%|            750218|               797|\n",
      "|    max|            999999|          89518096|\n",
      "+-------+------------------+------------------+\n",
      "\n"
     ]
    },
    {
     "data": {
      "text/html": [
       "<div>\n",
       "  <span style=\"float: left;\">show at cmd6.sc:2</span>\n",
       "</div>\n"
      ]
     },
     "metadata": {},
     "output_type": "display_data"
    },
    {
     "data": {
      "text/html": [
       "<div class=\"progress\">\n",
       "  <div class=\"progress-bar\" role=\"progressbar\" style=\"background-color: blue; width: 100%; word-wrap: normal; white-space: nowrap; text-align: center; color: white\" aria-valuenow=\"100\" aria-valuemin=\"0\" aria-valuemax=\"100\">\n",
       "    1 / 1\n",
       "  </div>\n",
       "  <div class=\"progress-bar\" role=\"progressbar\" style=\"background-color: red; width: 0%\" aria-valuenow=\"0\" aria-valuemin=\"0\" aria-valuemax=\"100\"></div>\n",
       "</div>\n"
      ]
     },
     "metadata": {},
     "output_type": "display_data"
    },
    {
     "data": {
      "text/html": [
       "<div>\n",
       "  <span style=\"float: left;\">show at cmd6.sc:2</span>\n",
       "</div>\n"
      ]
     },
     "metadata": {},
     "output_type": "display_data"
    },
    {
     "data": {
      "text/html": [
       "<div class=\"progress\">\n",
       "  <div class=\"progress-bar\" role=\"progressbar\" style=\"background-color: blue; width: 100%; word-wrap: normal; white-space: nowrap; text-align: center; color: white\" aria-valuenow=\"100\" aria-valuemin=\"0\" aria-valuemax=\"100\">\n",
       "    4 / 4\n",
       "  </div>\n",
       "  <div class=\"progress-bar\" role=\"progressbar\" style=\"background-color: red; width: 0%\" aria-valuenow=\"0\" aria-valuemin=\"0\" aria-valuemax=\"100\"></div>\n",
       "</div>\n"
      ]
     },
     "metadata": {},
     "output_type": "display_data"
    },
    {
     "name": "stdout",
     "output_type": "stream",
     "text": [
      "+-------------+-------------------+-----------+-----------+---------+---------------+------------+--------+-----------------+\n",
      "|tranaction_id|        tx_datetime|customer_id|terminal_id|tx_amount|tx_time_seconds|tx_time_days|tx_fraud|tx_fraud_scenario|\n",
      "+-------------+-------------------+-----------+-----------+---------+---------------+------------+--------+-----------------+\n",
      "|      1565890|2019-08-22 10:40:48|     999999|        189|     34.0|          38448|           0|       0|                0|\n",
      "|      1974447|2019-08-23 11:56:00|    -999999|        919|     22.9|         129360|           1|       0|                0|\n",
      "|      2575141|2019-08-23 18:05:39|    -999999|        845|    37.24|         151539|           1|       0|                0|\n",
      "|      2710771|2019-08-23 09:46:25|    -999999|        947|     8.07|         121585|           1|       0|                0|\n",
      "|      2738747|2019-08-23 09:51:54|    -999999|        700|    85.04|         121914|           1|       0|                0|\n",
      "|      3132854|2019-08-23 14:36:58|     999999|        488|    34.16|         139018|           1|       0|                0|\n",
      "|      4519753|2019-08-24 07:24:45|    -999999|        845|    101.3|         199485|           2|       0|                0|\n",
      "|      5570677|2019-08-25 09:43:38|    -999999|        635|    62.57|         294218|           3|       0|                0|\n",
      "|      5740668|2019-08-25 01:00:46|    -999999|        274|     1.76|         262846|           3|       0|                0|\n",
      "|      5785941|2019-08-25 01:32:08|    -999999|        301|     9.51|         264728|           3|       0|                0|\n",
      "|      7301532|2019-08-26 11:49:23|    -999999|        995|   129.96|         388163|           4|       0|                0|\n",
      "|      7733343|2019-08-26 04:15:31|    -999999|        486|     7.94|         360931|           4|       0|                0|\n",
      "|      7786491|2019-08-26 11:03:06|    -999999|        214|    29.43|         385386|           4|       0|                0|\n",
      "|      7831403|2019-08-26 04:41:29|     999999|        735|    61.44|         362489|           4|       0|                0|\n",
      "|      8327966|2019-08-27 15:17:29|    -999999|        231|   106.78|         487049|           5|       0|                0|\n",
      "|      8652632|2019-08-27 03:52:56|    -999999|        561|    74.97|         445976|           5|       0|                0|\n",
      "|      8850151|2019-08-27 08:54:12|    -999999|        884|    72.48|         464052|           5|       0|                0|\n",
      "|      9315416|2019-08-27 19:15:23|    -999999|         32|   185.68|         501323|           5|       0|                0|\n",
      "|      9453882|2019-08-28 21:15:24|    -999999|        256|   114.29|         594924|           6|       0|                0|\n",
      "|      9968199|2019-08-28 06:16:51|    -999999|        556|    49.28|         541011|           6|       0|                0|\n",
      "+-------------+-------------------+-----------+-----------+---------+---------------+------------+--------+-----------------+\n",
      "only showing top 20 rows\n",
      "\n"
     ]
    }
   ],
   "source": [
    "df.summary().show()\n",
    "RawTransactions.filter((RawTransactions(\"customer_id\") === 999999) or (RawTransactions(\"customer_id\") === -999999)).show()"
   ]
  },
  {
   "cell_type": "code",
   "execution_count": 8,
   "id": "db1920a3",
   "metadata": {},
   "outputs": [
    {
     "data": {
      "text/html": [
       "<div>\n",
       "  <span style=\"float: left;\">show at cmd7.sc:1</span>\n",
       "</div>\n"
      ]
     },
     "metadata": {},
     "output_type": "display_data"
    },
    {
     "data": {
      "text/html": [
       "<div class=\"progress\">\n",
       "  <div class=\"progress-bar\" role=\"progressbar\" style=\"background-color: blue; width: 100%; word-wrap: normal; white-space: nowrap; text-align: center; color: white\" aria-valuenow=\"100\" aria-valuemin=\"0\" aria-valuemax=\"100\">\n",
       "    1 / 1\n",
       "  </div>\n",
       "  <div class=\"progress-bar\" role=\"progressbar\" style=\"background-color: red; width: 0%\" aria-valuenow=\"0\" aria-valuemin=\"0\" aria-valuemax=\"100\"></div>\n",
       "</div>\n"
      ]
     },
     "metadata": {},
     "output_type": "display_data"
    },
    {
     "name": "stdout",
     "output_type": "stream",
     "text": [
      "+-------------+-------------------+-----------+-----------+---------+---------------+------------+--------+-----------------+\n",
      "|tranaction_id|        tx_datetime|customer_id|terminal_id|tx_amount|tx_time_seconds|tx_time_days|tx_fraud|tx_fraud_scenario|\n",
      "+-------------+-------------------+-----------+-----------+---------+---------------+------------+--------+-----------------+\n",
      "|            1|2019-08-22 05:10:37|          0|          0|    90.55|          18637|           0|       0|                0|\n",
      "|            3|2019-08-22 07:21:33|          0|          0|    80.41|          26493|           0|       0|                0|\n",
      "|            6|2019-08-22 03:12:21|          3|          0|     47.2|          11541|           0|       0|                0|\n",
      "|           12|2019-08-22 15:47:54|         10|          0|    58.89|          56874|           0|       0|                0|\n",
      "|           69|2019-08-22 12:00:23|         44|          0|    70.64|          43223|           0|       0|                0|\n",
      "|           91|2019-08-22 09:12:18|         54|          0|   176.84|          33138|           0|       0|                0|\n",
      "|          107|2019-08-22 18:45:14|         62|          0|    70.68|          67514|           0|       0|                0|\n",
      "|          148|2019-08-22 10:01:24|         95|          0|    16.69|          36084|           0|       0|                0|\n",
      "|          158|2019-08-22 15:04:06|        103|          0|   102.29|          54246|           0|       0|                0|\n",
      "|          221|2019-08-22 07:32:24|        148|          0|    35.13|          27144|           0|       0|                0|\n",
      "|          257|2019-08-22 12:10:29|        174|          0|    34.47|          43829|           0|       0|                0|\n",
      "|          264|2019-08-22 04:34:54|        180|          0|    10.46|          16494|           0|       0|                0|\n",
      "|          265|2019-08-22 12:59:57|        180|          0|     4.01|          46797|           0|       0|                0|\n",
      "|          286|2019-08-22 07:57:12|        196|          0|    43.03|          28632|           0|       0|                0|\n",
      "|          295|2019-08-22 15:51:01|        204|          0|   129.04|          57061|           0|       0|                0|\n",
      "|          297|2019-08-22 04:09:58|        204|          0|   115.22|          14998|           0|       0|                0|\n",
      "|          302|2019-08-22 11:48:08|        206|          0|    29.62|          42488|           0|       0|                0|\n",
      "|          376|2019-08-22 21:43:12|        260|          0|     4.07|          78192|           0|       0|                0|\n",
      "|          392|2019-08-22 13:06:40|        272|          0|    13.24|          47200|           0|       0|                0|\n",
      "|          407|2019-08-22 13:42:13|        280|          0|    57.28|          49333|           0|       0|                0|\n",
      "+-------------+-------------------+-----------+-----------+---------+---------------+------------+--------+-----------------+\n",
      "only showing top 20 rows\n",
      "\n"
     ]
    }
   ],
   "source": [
    "RawTransactions.filter(RawTransactions(\"terminal_id\") === 0).show()"
   ]
  },
  {
   "cell_type": "code",
   "execution_count": 9,
   "id": "3c9e838a",
   "metadata": {},
   "outputs": [
    {
     "data": {
      "text/html": [
       "<div>\n",
       "  <span style=\"float: left;\">show at cmd8.sc:1</span>\n",
       "</div>\n"
      ]
     },
     "metadata": {},
     "output_type": "display_data"
    },
    {
     "data": {
      "text/html": [
       "<div class=\"progress\">\n",
       "  <div class=\"progress-bar\" role=\"progressbar\" style=\"background-color: blue; width: 100%; word-wrap: normal; white-space: nowrap; text-align: center; color: white\" aria-valuenow=\"100\" aria-valuemin=\"0\" aria-valuemax=\"100\">\n",
       "    1 / 1\n",
       "  </div>\n",
       "  <div class=\"progress-bar\" role=\"progressbar\" style=\"background-color: red; width: 0%\" aria-valuenow=\"0\" aria-valuemin=\"0\" aria-valuemax=\"100\"></div>\n",
       "</div>\n"
      ]
     },
     "metadata": {},
     "output_type": "display_data"
    },
    {
     "name": "stdout",
     "output_type": "stream",
     "text": [
      "+-------------+-------------------+-----------+-----------+---------+---------------+------------+--------+-----------------+\n",
      "|tranaction_id|        tx_datetime|customer_id|terminal_id|tx_amount|tx_time_seconds|tx_time_days|tx_fraud|tx_fraud_scenario|\n",
      "+-------------+-------------------+-----------+-----------+---------+---------------+------------+--------+-----------------+\n",
      "|         1572|2019-08-22 19:08:50|        983|   89518096|    92.46|          68930|           0|       0|                0|\n",
      "|         2752|2019-08-22 12:28:42|       1764|   89518096|    96.55|          44922|           0|       0|                0|\n",
      "|        10089|2019-08-22 11:35:27|       6630|   89518096|   100.59|          41727|           0|       0|                0|\n",
      "|        10426|2019-08-22 05:00:40|       6841|   89518096|    81.55|          18040|           0|       0|                0|\n",
      "|        10990|2019-08-22 23:01:29|       7183|   89518096|    99.32|          82889|           0|       0|                0|\n",
      "|        14237|2019-08-22 07:52:30|       9274|   89518096|    59.06|          28350|           0|       0|                0|\n",
      "|        15734|2019-08-22 06:28:12|      10253|   89518096|   137.05|          23292|           0|       0|                0|\n",
      "|        20272|2019-08-22 07:14:50|      13194|   89518096|     8.83|          26090|           0|       0|                0|\n",
      "|        20654|2019-08-22 11:25:00|      13426|   89518096|     8.32|          41100|           0|       0|                0|\n",
      "|        21401|2019-08-22 14:47:38|      13878|   89518096|    51.06|          53258|           0|       0|                0|\n",
      "|        23212|2019-08-22 18:49:33|      15042|   89518096|    47.09|          67773|           0|       0|                0|\n",
      "|        23608|2019-08-22 12:06:24|      15292|   89518096|     9.95|          43584|           0|       0|                0|\n",
      "|        33297|2019-08-22 09:51:39|      21410|   89518096|     16.8|          35499|           0|       0|                0|\n",
      "|        34612|2019-08-22 17:37:59|      22318|   89518096|     85.7|          63479|           0|       0|                0|\n",
      "|        40772|2019-08-22 10:51:28|      26178|   89518096|    32.83|          39088|           0|       0|                0|\n",
      "|        42173|2019-08-22 10:03:51|      27076|   89518096|    83.73|          36231|           0|       0|                0|\n",
      "|        45256|2019-08-22 11:57:31|      29054|   89518096|    17.78|          43051|           0|       0|                0|\n",
      "|        49082|2019-08-22 17:45:24|      31470|   89518096|    84.76|          63924|           0|       0|                0|\n",
      "|        49469|2019-08-22 09:06:14|      31727|   89518096|   113.89|          32774|           0|       0|                0|\n",
      "|        59573|2019-08-22 15:18:57|      38247|   89518096|    16.55|          55137|           0|       0|                0|\n",
      "+-------------+-------------------+-----------+-----------+---------+---------------+------------+--------+-----------------+\n",
      "only showing top 20 rows\n",
      "\n"
     ]
    }
   ],
   "source": [
    "RawTransactions.filter(RawTransactions(\"terminal_id\") > 30000).show()"
   ]
  },
  {
   "cell_type": "code",
   "execution_count": 10,
   "id": "d587df0b",
   "metadata": {},
   "outputs": [
    {
     "data": {
      "text/html": [
       "<div>\n",
       "  <span style=\"float: left;\">show at cmd9.sc:2</span>\n",
       "</div>\n"
      ]
     },
     "metadata": {},
     "output_type": "display_data"
    },
    {
     "data": {
      "text/html": [
       "<div class=\"progress\">\n",
       "  <div class=\"progress-bar\" role=\"progressbar\" style=\"background-color: blue; width: 100%; word-wrap: normal; white-space: nowrap; text-align: center; color: white\" aria-valuenow=\"100\" aria-valuemin=\"0\" aria-valuemax=\"100\">\n",
       "    1 / 1\n",
       "  </div>\n",
       "  <div class=\"progress-bar\" role=\"progressbar\" style=\"background-color: red; width: 0%\" aria-valuenow=\"0\" aria-valuemin=\"0\" aria-valuemax=\"100\"></div>\n",
       "</div>\n"
      ]
     },
     "metadata": {},
     "output_type": "display_data"
    },
    {
     "name": "stdout",
     "output_type": "stream",
     "text": [
      "+-------------+-------------------+-----------+-----------+---------+---------------+------------+--------+-----------------+\n",
      "|tranaction_id|        tx_datetime|customer_id|terminal_id|tx_amount|tx_time_seconds|tx_time_days|tx_fraud|tx_fraud_scenario|\n",
      "+-------------+-------------------+-----------+-----------+---------+---------------+------------+--------+-----------------+\n",
      "|        32612|2019-08-22 15:04:07|      20987|        461|      0.0|          54247|           0|       0|                0|\n",
      "|        51947|2019-08-22 07:59:23|      33354|        145|      0.0|          28763|           0|       0|                0|\n",
      "|        90921|2019-08-22 11:40:41|      58240|        145|      0.0|          42041|           0|       0|                0|\n",
      "|       111111|2019-08-22 20:06:49|      71171|        228|      0.0|          72409|           0|       0|                0|\n",
      "|       115880|2019-08-22 13:08:59|      74277|        723|      0.0|          47339|           0|       0|                0|\n",
      "|       307118|2019-08-22 10:47:55|     196815|        784|      0.0|          38875|           0|       0|                0|\n",
      "|       357305|2019-08-22 11:59:19|     228980|        157|      0.0|          43159|           0|       0|                0|\n",
      "|       408009|2019-08-22 08:30:19|     261422|        350|      0.0|          30619|           0|       0|                0|\n",
      "|       552481|2019-08-22 12:42:42|     353425|        131|      0.0|          45762|           0|       0|                0|\n",
      "|       593902|2019-08-22 03:26:36|     379977|        998|      0.0|          12396|           0|       0|                0|\n",
      "|       620273|2019-08-22 10:16:28|     396668|         29|      0.0|          36988|           0|       0|                0|\n",
      "|       668329|2019-08-22 19:12:12|     427365|        988|      0.0|          69132|           0|       0|                0|\n",
      "|       672927|2019-08-22 18:26:37|     430305|        944|      0.0|          66397|           0|       0|                0|\n",
      "|       842555|2019-08-22 17:58:41|     538850|        784|      0.0|          64721|           0|       0|                0|\n",
      "|       854278|2019-08-22 14:16:48|     546469|        904|      0.0|          51408|           0|       0|                0|\n",
      "|       861906|2019-08-22 19:48:45|     551333|         81|      0.0|          71325|           0|       0|                0|\n",
      "|       926950|2019-08-22 16:32:26|     592776|        307|      0.0|          59546|           0|       0|                0|\n",
      "|       939180|2019-08-22 05:24:48|     600469|        794|      0.0|          19488|           0|       0|                0|\n",
      "|       943181|2019-08-22 18:00:56|     603037|        409|      0.0|          64856|           0|       0|                0|\n",
      "|       992522|2019-08-22 11:38:00|     634437|        598|      0.0|          41880|           0|       0|                0|\n",
      "+-------------+-------------------+-----------+-----------+---------+---------------+------------+--------+-----------------+\n",
      "only showing top 20 rows\n",
      "\n"
     ]
    },
    {
     "data": {
      "text/html": [
       "<div>\n",
       "  <span style=\"float: left;\">count at cmd9.sc:3</span>\n",
       "</div>\n"
      ]
     },
     "metadata": {},
     "output_type": "display_data"
    },
    {
     "data": {
      "text/html": [
       "<div class=\"progress\">\n",
       "  <div class=\"progress-bar\" role=\"progressbar\" style=\"background-color: blue; width: 100%; word-wrap: normal; white-space: nowrap; text-align: center; color: white\" aria-valuenow=\"100\" aria-valuemin=\"0\" aria-valuemax=\"100\">\n",
       "    21 / 21\n",
       "  </div>\n",
       "  <div class=\"progress-bar\" role=\"progressbar\" style=\"background-color: red; width: 0%\" aria-valuenow=\"0\" aria-valuemin=\"0\" aria-valuemax=\"100\"></div>\n",
       "</div>\n"
      ]
     },
     "metadata": {},
     "output_type": "display_data"
    },
    {
     "data": {
      "text/html": [
       "<div>\n",
       "  <span style=\"float: left;\">count at cmd9.sc:3</span>\n",
       "</div>\n"
      ]
     },
     "metadata": {},
     "output_type": "display_data"
    },
    {
     "data": {
      "text/html": [
       "<div class=\"progress\">\n",
       "  <div class=\"progress-bar\" role=\"progressbar\" style=\"background-color: blue; width: 100%; word-wrap: normal; white-space: nowrap; text-align: center; color: white\" aria-valuenow=\"100\" aria-valuemin=\"0\" aria-valuemax=\"100\">\n",
       "    1 / 1\n",
       "  </div>\n",
       "  <div class=\"progress-bar\" role=\"progressbar\" style=\"background-color: red; width: 0%\" aria-valuenow=\"0\" aria-valuemin=\"0\" aria-valuemax=\"100\"></div>\n",
       "</div>\n"
      ]
     },
     "metadata": {},
     "output_type": "display_data"
    },
    {
     "name": "stdout",
     "output_type": "stream",
     "text": [
      "884\n"
     ]
    },
    {
     "data": {
      "text/plain": [
       "\u001b[36mzero_amount\u001b[39m: \u001b[32mDataset\u001b[39m[\u001b[32mRow\u001b[39m] = [tranaction_id: int, tx_datetime: timestamp ... 7 more fields]"
      ]
     },
     "execution_count": 10,
     "metadata": {},
     "output_type": "execute_result"
    }
   ],
   "source": [
    "val zero_amount = RawTransactions.filter(RawTransactions(\"tx_amount\") === 0)\n",
    "zero_amount.show()\n",
    "println(zero_amount.count)"
   ]
  },
  {
   "cell_type": "code",
   "execution_count": 11,
   "id": "72d95024",
   "metadata": {},
   "outputs": [
    {
     "data": {
      "text/html": [
       "<div>\n",
       "  <span style=\"float: left;\">summary at cmd10.sc:2</span>\n",
       "</div>\n"
      ]
     },
     "metadata": {},
     "output_type": "display_data"
    },
    {
     "data": {
      "text/html": [
       "<div class=\"progress\">\n",
       "  <div class=\"progress-bar\" role=\"progressbar\" style=\"background-color: blue; width: 100%; word-wrap: normal; white-space: nowrap; text-align: center; color: white\" aria-valuenow=\"100\" aria-valuemin=\"0\" aria-valuemax=\"100\">\n",
       "    21 / 21\n",
       "  </div>\n",
       "  <div class=\"progress-bar\" role=\"progressbar\" style=\"background-color: red; width: 0%\" aria-valuenow=\"0\" aria-valuemin=\"0\" aria-valuemax=\"100\"></div>\n",
       "</div>\n"
      ]
     },
     "metadata": {},
     "output_type": "display_data"
    },
    {
     "data": {
      "text/html": [
       "<div>\n",
       "  <span style=\"float: left;\">summary at cmd10.sc:2</span>\n",
       "</div>\n"
      ]
     },
     "metadata": {},
     "output_type": "display_data"
    },
    {
     "data": {
      "text/html": [
       "<div class=\"progress\">\n",
       "  <div class=\"progress-bar\" role=\"progressbar\" style=\"background-color: blue; width: 100%; word-wrap: normal; white-space: nowrap; text-align: center; color: white\" aria-valuenow=\"100\" aria-valuemin=\"0\" aria-valuemax=\"100\">\n",
       "    1 / 1\n",
       "  </div>\n",
       "  <div class=\"progress-bar\" role=\"progressbar\" style=\"background-color: red; width: 0%\" aria-valuenow=\"0\" aria-valuemin=\"0\" aria-valuemax=\"100\"></div>\n",
       "</div>\n"
      ]
     },
     "metadata": {},
     "output_type": "display_data"
    },
    {
     "name": "stdout",
     "output_type": "stream",
     "text": [
      "+-------+------------------+----------------+\n",
      "|summary|   tx_time_seconds|    tx_time_days|\n",
      "+-------+------------------+----------------+\n",
      "|  count|          46988418|        46988418|\n",
      "|   mean|1296054.5003670265|14.5006346883183|\n",
      "| stddev|  748049.508734945|8.65541588439431|\n",
      "|    min|                 0|               0|\n",
      "|    25%|            648121|               7|\n",
      "|    50%|           1296000|              14|\n",
      "|    75%|           1944045|              22|\n",
      "|    max|           2592000|              29|\n",
      "+-------+------------------+----------------+\n",
      "\n"
     ]
    },
    {
     "data": {
      "text/plain": [
       "\u001b[36mdf\u001b[39m: \u001b[32mDataFrame\u001b[39m = [tx_time_seconds: int, tx_time_days: int]"
      ]
     },
     "execution_count": 11,
     "metadata": {},
     "output_type": "execute_result"
    }
   ],
   "source": [
    "val df = RawTransactions.select(\"tx_time_seconds\",\"tx_time_days\")\n",
    "df.summary().show()"
   ]
  },
  {
   "cell_type": "code",
   "execution_count": 12,
   "id": "b76fb135",
   "metadata": {},
   "outputs": [
    {
     "data": {
      "text/html": [
       "<div>\n",
       "  <span style=\"float: left;\">summary at cmd11.sc:2</span>\n",
       "</div>\n"
      ]
     },
     "metadata": {},
     "output_type": "display_data"
    },
    {
     "data": {
      "text/html": [
       "<div class=\"progress\">\n",
       "  <div class=\"progress-bar\" role=\"progressbar\" style=\"background-color: blue; width: 100%; word-wrap: normal; white-space: nowrap; text-align: center; color: white\" aria-valuenow=\"100\" aria-valuemin=\"0\" aria-valuemax=\"100\">\n",
       "    21 / 21\n",
       "  </div>\n",
       "  <div class=\"progress-bar\" role=\"progressbar\" style=\"background-color: red; width: 0%\" aria-valuenow=\"0\" aria-valuemin=\"0\" aria-valuemax=\"100\"></div>\n",
       "</div>\n"
      ]
     },
     "metadata": {},
     "output_type": "display_data"
    },
    {
     "data": {
      "text/html": [
       "<div>\n",
       "  <span style=\"float: left;\">summary at cmd11.sc:2</span>\n",
       "</div>\n"
      ]
     },
     "metadata": {},
     "output_type": "display_data"
    },
    {
     "data": {
      "text/html": [
       "<div class=\"progress\">\n",
       "  <div class=\"progress-bar\" role=\"progressbar\" style=\"background-color: blue; width: 100%; word-wrap: normal; white-space: nowrap; text-align: center; color: white\" aria-valuenow=\"100\" aria-valuemin=\"0\" aria-valuemax=\"100\">\n",
       "    1 / 1\n",
       "  </div>\n",
       "  <div class=\"progress-bar\" role=\"progressbar\" style=\"background-color: red; width: 0%\" aria-valuenow=\"0\" aria-valuemin=\"0\" aria-valuemax=\"100\"></div>\n",
       "</div>\n"
      ]
     },
     "metadata": {},
     "output_type": "display_data"
    },
    {
     "name": "stdout",
     "output_type": "stream",
     "text": [
      "+-------+-------------------+-------------------+\n",
      "|summary|           tx_fraud|  tx_fraud_scenario|\n",
      "+-------+-------------------+-------------------+\n",
      "|  count|           46988418|           46988418|\n",
      "|   mean|0.05377931642644364|0.10841507794537794|\n",
      "| stddev|0.22558169835808653| 0.4568780500029875|\n",
      "|    min|                  0|                  0|\n",
      "|    25%|                  0|                  0|\n",
      "|    50%|                  0|                  0|\n",
      "|    75%|                  0|                  0|\n",
      "|    max|                  1|                  3|\n",
      "+-------+-------------------+-------------------+\n",
      "\n"
     ]
    },
    {
     "data": {
      "text/plain": [
       "\u001b[36mdf\u001b[39m: \u001b[32mDataFrame\u001b[39m = [tx_fraud: int, tx_fraud_scenario: int]"
      ]
     },
     "execution_count": 12,
     "metadata": {},
     "output_type": "execute_result"
    }
   ],
   "source": [
    "val df = RawTransactions.select(\"tx_fraud\",\"tx_fraud_scenario\")\n",
    "df.summary().show()"
   ]
  },
  {
   "cell_type": "code",
   "execution_count": 13,
   "id": "864b214d",
   "metadata": {},
   "outputs": [
    {
     "data": {
      "text/html": [
       "<div>\n",
       "  <span style=\"float: left;\">show at cmd12.sc:1</span>\n",
       "</div>\n"
      ]
     },
     "metadata": {},
     "output_type": "display_data"
    },
    {
     "data": {
      "text/html": [
       "<div class=\"progress\">\n",
       "  <div class=\"progress-bar\" role=\"progressbar\" style=\"background-color: blue; width: 100%; word-wrap: normal; white-space: nowrap; text-align: center; color: white\" aria-valuenow=\"100\" aria-valuemin=\"0\" aria-valuemax=\"100\">\n",
       "    1 / 1\n",
       "  </div>\n",
       "  <div class=\"progress-bar\" role=\"progressbar\" style=\"background-color: red; width: 0%\" aria-valuenow=\"0\" aria-valuemin=\"0\" aria-valuemax=\"100\"></div>\n",
       "</div>\n"
      ]
     },
     "metadata": {},
     "output_type": "display_data"
    },
    {
     "data": {
      "text/html": [
       "<div>\n",
       "  <span style=\"float: left;\">show at cmd12.sc:1</span>\n",
       "</div>\n"
      ]
     },
     "metadata": {},
     "output_type": "display_data"
    },
    {
     "data": {
      "text/html": [
       "<div class=\"progress\">\n",
       "  <div class=\"progress-bar\" role=\"progressbar\" style=\"background-color: blue; width: 100%; word-wrap: normal; white-space: nowrap; text-align: center; color: white\" aria-valuenow=\"100\" aria-valuemin=\"0\" aria-valuemax=\"100\">\n",
       "    4 / 4\n",
       "  </div>\n",
       "  <div class=\"progress-bar\" role=\"progressbar\" style=\"background-color: red; width: 0%\" aria-valuenow=\"0\" aria-valuemin=\"0\" aria-valuemax=\"100\"></div>\n",
       "</div>\n"
      ]
     },
     "metadata": {},
     "output_type": "display_data"
    },
    {
     "data": {
      "text/html": [
       "<div>\n",
       "  <span style=\"float: left;\">show at cmd12.sc:1</span>\n",
       "</div>\n"
      ]
     },
     "metadata": {},
     "output_type": "display_data"
    },
    {
     "data": {
      "text/html": [
       "<div class=\"progress\">\n",
       "  <div class=\"progress-bar\" role=\"progressbar\" style=\"background-color: blue; width: 100%; word-wrap: normal; white-space: nowrap; text-align: center; color: white\" aria-valuenow=\"100\" aria-valuemin=\"0\" aria-valuemax=\"100\">\n",
       "    16 / 16\n",
       "  </div>\n",
       "  <div class=\"progress-bar\" role=\"progressbar\" style=\"background-color: red; width: 0%\" aria-valuenow=\"0\" aria-valuemin=\"0\" aria-valuemax=\"100\"></div>\n",
       "</div>\n"
      ]
     },
     "metadata": {},
     "output_type": "display_data"
    },
    {
     "name": "stdout",
     "output_type": "stream",
     "text": [
      "+-------------+-------------------+-----------+-----------+---------+---------------+------------+--------+-----------------+\n",
      "|tranaction_id|        tx_datetime|customer_id|terminal_id|tx_amount|tx_time_seconds|tx_time_days|tx_fraud|tx_fraud_scenario|\n",
      "+-------------+-------------------+-----------+-----------+---------+---------------+------------+--------+-----------------+\n",
      "|            0|2019-08-22 06:51:03|          0|        711|    70.91|          24663|           0|       0|                0|\n",
      "+-------------+-------------------+-----------+-----------+---------+---------------+------------+--------+-----------------+\n",
      "\n"
     ]
    }
   ],
   "source": [
    "//RawTransactions.filter(RawTransactions(\"tranaction_id\").isNull).show()\n",
    "RawTransactions.filter(RawTransactions(\"tranaction_id\") === 0).show()"
   ]
  },
  {
   "cell_type": "code",
   "execution_count": 14,
   "id": "0507c906",
   "metadata": {},
   "outputs": [
    {
     "data": {
      "text/html": [
       "<div>\n",
       "  <span style=\"float: left;\">show at cmd13.sc:1</span>\n",
       "</div>\n"
      ]
     },
     "metadata": {},
     "output_type": "display_data"
    },
    {
     "data": {
      "text/html": [
       "<div class=\"progress\">\n",
       "  <div class=\"progress-bar\" role=\"progressbar\" style=\"background-color: blue; width: 100%; word-wrap: normal; white-space: nowrap; text-align: center; color: white\" aria-valuenow=\"100\" aria-valuemin=\"0\" aria-valuemax=\"100\">\n",
       "    1 / 1\n",
       "  </div>\n",
       "  <div class=\"progress-bar\" role=\"progressbar\" style=\"background-color: red; width: 0%\" aria-valuenow=\"0\" aria-valuemin=\"0\" aria-valuemax=\"100\"></div>\n",
       "</div>\n"
      ]
     },
     "metadata": {},
     "output_type": "display_data"
    },
    {
     "data": {
      "text/html": [
       "<div>\n",
       "  <span style=\"float: left;\">show at cmd13.sc:1</span>\n",
       "</div>\n"
      ]
     },
     "metadata": {},
     "output_type": "display_data"
    },
    {
     "data": {
      "text/html": [
       "<div class=\"progress\">\n",
       "  <div class=\"progress-bar\" role=\"progressbar\" style=\"background-color: blue; width: 100%; word-wrap: normal; white-space: nowrap; text-align: center; color: white\" aria-valuenow=\"100\" aria-valuemin=\"0\" aria-valuemax=\"100\">\n",
       "    4 / 4\n",
       "  </div>\n",
       "  <div class=\"progress-bar\" role=\"progressbar\" style=\"background-color: red; width: 0%\" aria-valuenow=\"0\" aria-valuemin=\"0\" aria-valuemax=\"100\"></div>\n",
       "</div>\n"
      ]
     },
     "metadata": {},
     "output_type": "display_data"
    },
    {
     "data": {
      "text/html": [
       "<div>\n",
       "  <span style=\"float: left;\">show at cmd13.sc:1</span>\n",
       "</div>\n"
      ]
     },
     "metadata": {},
     "output_type": "display_data"
    },
    {
     "data": {
      "text/html": [
       "<div class=\"progress\">\n",
       "  <div class=\"progress-bar\" role=\"progressbar\" style=\"background-color: blue; width: 100%; word-wrap: normal; white-space: nowrap; text-align: center; color: white\" aria-valuenow=\"100\" aria-valuemin=\"0\" aria-valuemax=\"100\">\n",
       "    16 / 16\n",
       "  </div>\n",
       "  <div class=\"progress-bar\" role=\"progressbar\" style=\"background-color: red; width: 0%\" aria-valuenow=\"0\" aria-valuemin=\"0\" aria-valuemax=\"100\"></div>\n",
       "</div>\n"
      ]
     },
     "metadata": {},
     "output_type": "display_data"
    },
    {
     "name": "stdout",
     "output_type": "stream",
     "text": [
      "+-------------+-----------+-----------+-----------+---------+---------------+------------+--------+-----------------+\n",
      "|tranaction_id|tx_datetime|customer_id|terminal_id|tx_amount|tx_time_seconds|tx_time_days|tx_fraud|tx_fraud_scenario|\n",
      "+-------------+-----------+-----------+-----------+---------+---------------+------------+--------+-----------------+\n",
      "+-------------+-----------+-----------+-----------+---------+---------------+------------+--------+-----------------+\n",
      "\n"
     ]
    }
   ],
   "source": [
    "RawTransactions.filter(RawTransactions(\"tx_datetime\").isNull).show()"
   ]
  },
  {
   "cell_type": "code",
   "execution_count": 15,
   "id": "9387175a",
   "metadata": {},
   "outputs": [
    {
     "data": {
      "text/html": [
       "<div>\n",
       "  <span style=\"float: left;\">count at cmd14.sc:4</span>\n",
       "</div>\n"
      ]
     },
     "metadata": {},
     "output_type": "display_data"
    },
    {
     "data": {
      "text/html": [
       "<div class=\"progress\">\n",
       "  <div class=\"progress-bar\" role=\"progressbar\" style=\"background-color: blue; width: 100%; word-wrap: normal; white-space: nowrap; text-align: center; color: white\" aria-valuenow=\"100\" aria-valuemin=\"0\" aria-valuemax=\"100\">\n",
       "    21 / 21\n",
       "  </div>\n",
       "  <div class=\"progress-bar\" role=\"progressbar\" style=\"background-color: red; width: 0%\" aria-valuenow=\"0\" aria-valuemin=\"0\" aria-valuemax=\"100\"></div>\n",
       "</div>\n"
      ]
     },
     "metadata": {},
     "output_type": "display_data"
    },
    {
     "data": {
      "text/html": [
       "<div>\n",
       "  <span style=\"float: left;\">count at cmd14.sc:4</span>\n",
       "</div>\n"
      ]
     },
     "metadata": {},
     "output_type": "display_data"
    },
    {
     "data": {
      "text/html": [
       "<div class=\"progress\">\n",
       "  <div class=\"progress-bar\" role=\"progressbar\" style=\"background-color: blue; width: 100%; word-wrap: normal; white-space: nowrap; text-align: center; color: white\" aria-valuenow=\"100\" aria-valuemin=\"0\" aria-valuemax=\"100\">\n",
       "    200 / 200\n",
       "  </div>\n",
       "  <div class=\"progress-bar\" role=\"progressbar\" style=\"background-color: red; width: 0%\" aria-valuenow=\"0\" aria-valuemin=\"0\" aria-valuemax=\"100\"></div>\n",
       "</div>\n"
      ]
     },
     "metadata": {},
     "output_type": "display_data"
    },
    {
     "data": {
      "text/html": [
       "<div>\n",
       "  <span style=\"float: left;\">count at cmd14.sc:4</span>\n",
       "</div>\n"
      ]
     },
     "metadata": {},
     "output_type": "display_data"
    },
    {
     "data": {
      "text/html": [
       "<div class=\"progress\">\n",
       "  <div class=\"progress-bar\" role=\"progressbar\" style=\"background-color: blue; width: 100%; word-wrap: normal; white-space: nowrap; text-align: center; color: white\" aria-valuenow=\"100\" aria-valuemin=\"0\" aria-valuemax=\"100\">\n",
       "    1 / 1\n",
       "  </div>\n",
       "  <div class=\"progress-bar\" role=\"progressbar\" style=\"background-color: red; width: 0%\" aria-valuenow=\"0\" aria-valuemin=\"0\" aria-valuemax=\"100\"></div>\n",
       "</div>\n"
      ]
     },
     "metadata": {},
     "output_type": "display_data"
    },
    {
     "name": "stdout",
     "output_type": "stream",
     "text": [
      "181\n"
     ]
    },
    {
     "data": {
      "text/html": [
       "<div>\n",
       "  <span style=\"float: left;\">show at cmd14.sc:8</span>\n",
       "</div>\n"
      ]
     },
     "metadata": {},
     "output_type": "display_data"
    },
    {
     "data": {
      "text/html": [
       "<div class=\"progress\">\n",
       "  <div class=\"progress-bar\" role=\"progressbar\" style=\"background-color: blue; width: 100%; word-wrap: normal; white-space: nowrap; text-align: center; color: white\" aria-valuenow=\"100\" aria-valuemin=\"0\" aria-valuemax=\"100\">\n",
       "    21 / 21\n",
       "  </div>\n",
       "  <div class=\"progress-bar\" role=\"progressbar\" style=\"background-color: red; width: 0%\" aria-valuenow=\"0\" aria-valuemin=\"0\" aria-valuemax=\"100\"></div>\n",
       "</div>\n"
      ]
     },
     "metadata": {},
     "output_type": "display_data"
    },
    {
     "data": {
      "text/html": [
       "<div>\n",
       "  <span style=\"float: left;\">show at cmd14.sc:8</span>\n",
       "</div>\n"
      ]
     },
     "metadata": {},
     "output_type": "display_data"
    },
    {
     "data": {
      "text/html": [
       "<div class=\"progress\">\n",
       "  <div class=\"progress-bar\" role=\"progressbar\" style=\"background-color: blue; width: 100%; word-wrap: normal; white-space: nowrap; text-align: center; color: white\" aria-valuenow=\"100\" aria-valuemin=\"0\" aria-valuemax=\"100\">\n",
       "    21 / 21\n",
       "  </div>\n",
       "  <div class=\"progress-bar\" role=\"progressbar\" style=\"background-color: red; width: 0%\" aria-valuenow=\"0\" aria-valuemin=\"0\" aria-valuemax=\"100\"></div>\n",
       "</div>\n"
      ]
     },
     "metadata": {},
     "output_type": "display_data"
    },
    {
     "data": {
      "text/html": [
       "<div>\n",
       "  <span style=\"float: left;\">show at cmd14.sc:8</span>\n",
       "</div>\n"
      ]
     },
     "metadata": {},
     "output_type": "display_data"
    },
    {
     "data": {
      "text/html": [
       "<div class=\"progress\">\n",
       "  <div class=\"progress-bar\" role=\"progressbar\" style=\"background-color: blue; width: 100%; word-wrap: normal; white-space: nowrap; text-align: center; color: white\" aria-valuenow=\"100\" aria-valuemin=\"0\" aria-valuemax=\"100\">\n",
       "    1 / 1\n",
       "  </div>\n",
       "  <div class=\"progress-bar\" role=\"progressbar\" style=\"background-color: red; width: 0%\" aria-valuenow=\"0\" aria-valuemin=\"0\" aria-valuemax=\"100\"></div>\n",
       "</div>\n"
      ]
     },
     "metadata": {},
     "output_type": "display_data"
    },
    {
     "data": {
      "text/html": [
       "<div>\n",
       "  <span style=\"float: left;\">show at cmd14.sc:8</span>\n",
       "</div>\n"
      ]
     },
     "metadata": {},
     "output_type": "display_data"
    },
    {
     "data": {
      "text/html": [
       "<div class=\"progress\">\n",
       "  <div class=\"progress-bar\" role=\"progressbar\" style=\"background-color: blue; width: 100%; word-wrap: normal; white-space: nowrap; text-align: center; color: white\" aria-valuenow=\"100\" aria-valuemin=\"0\" aria-valuemax=\"100\">\n",
       "    4 / 4\n",
       "  </div>\n",
       "  <div class=\"progress-bar\" role=\"progressbar\" style=\"background-color: red; width: 0%\" aria-valuenow=\"0\" aria-valuemin=\"0\" aria-valuemax=\"100\"></div>\n",
       "</div>\n"
      ]
     },
     "metadata": {},
     "output_type": "display_data"
    },
    {
     "data": {
      "text/html": [
       "<div>\n",
       "  <span style=\"float: left;\">show at cmd14.sc:8</span>\n",
       "</div>\n"
      ]
     },
     "metadata": {},
     "output_type": "display_data"
    },
    {
     "data": {
      "text/html": [
       "<div class=\"progress\">\n",
       "  <div class=\"progress-bar\" role=\"progressbar\" style=\"background-color: blue; width: 100%; word-wrap: normal; white-space: nowrap; text-align: center; color: white\" aria-valuenow=\"100\" aria-valuemin=\"0\" aria-valuemax=\"100\">\n",
       "    20 / 20\n",
       "  </div>\n",
       "  <div class=\"progress-bar\" role=\"progressbar\" style=\"background-color: red; width: 0%\" aria-valuenow=\"0\" aria-valuemin=\"0\" aria-valuemax=\"100\"></div>\n",
       "</div>\n"
      ]
     },
     "metadata": {},
     "output_type": "display_data"
    },
    {
     "name": "stdout",
     "output_type": "stream",
     "text": [
      "+-------------+-------------------+-----------+-----------+---------+---------------+------------+--------+-----------------+-----+\n",
      "|tranaction_id|        tx_datetime|customer_id|terminal_id|tx_amount|tx_time_seconds|tx_time_days|tx_fraud|tx_fraud_scenario|count|\n",
      "+-------------+-------------------+-----------+-----------+---------+---------------+------------+--------+-----------------+-----+\n",
      "|     29654634|2019-09-09 15:28:21|     934355|        174|    18.17|        1610901|          18|       0|                0|    2|\n",
      "|     29654634|2019-09-09 15:28:21|     934355|        174|    18.17|        1610901|          18|       0|                0|    2|\n",
      "|     31881858|2019-09-11 22:40:02|     357687|        803|    95.02|        1809602|          20|       0|                0|    2|\n",
      "|     31881858|2019-09-11 22:40:02|     357687|        803|    95.02|        1809602|          20|       0|                0|    2|\n",
      "|     17098584|2019-09-01 12:41:10|     918998|         88|    30.88|         909670|          10|       0|                0|    2|\n",
      "|     17098584|2019-09-01 12:41:10|     918998|         88|    30.88|         909670|          10|       0|                0|    2|\n",
      "|      5133913|2019-08-25 15:27:24|     277851|        923|    12.68|         314844|           3|       0|                0|    2|\n",
      "|      5133913|2019-08-25 15:27:24|     277851|        923|    12.68|         314844|           3|       0|                0|    2|\n",
      "|      7052242|2019-08-26 13:05:29|     502811|        968|    88.92|         392729|           4|       0|                0|    2|\n",
      "|      7052242|2019-08-26 13:05:29|     502811|        968|    88.92|         392729|           4|       0|                0|    2|\n",
      "|     40640668|2019-09-16 16:17:02|     947287|        562|   753.97|        2218622|          25|       1|                3|    2|\n",
      "|     40640668|2019-09-16 16:17:02|     947287|        562|   753.97|        2218622|          25|       1|                3|    2|\n",
      "|     24352507|2019-09-06 08:37:08|     548498|         81|    81.52|        1327028|          15|       0|                0|    2|\n",
      "|     24352507|2019-09-06 08:37:08|     548498|         81|    81.52|        1327028|          15|       0|                0|    2|\n",
      "|     11708287|2019-08-29 10:46:42|     477120|        311|    44.46|         643602|           7|       0|                0|    2|\n",
      "|     11708287|2019-08-29 10:46:42|     477120|        311|    44.46|         643602|           7|       0|                0|    2|\n",
      "|     23970783|2019-09-06 11:40:05|     305104|        886|     73.9|        1338005|          15|       0|                0|    2|\n",
      "|     23970783|2019-09-06 11:40:05|     305104|        886|     73.9|        1338005|          15|       0|                0|    2|\n",
      "|      5349542|2019-08-25 18:42:48|     415112|        529|    15.46|         326568|           3|       0|                0|    2|\n",
      "|      5349542|2019-08-25 18:42:48|     415112|        529|    15.46|         326568|           3|       0|                0|    2|\n",
      "+-------------+-------------------+-----------+-----------+---------+---------------+------------+--------+-----------------+-----+\n",
      "only showing top 20 rows\n",
      "\n"
     ]
    },
    {
     "data": {
      "text/plain": [
       "\u001b[32mimport \u001b[39m\u001b[36morg.apache.spark.sql.functions._\n",
       "\u001b[39m\n",
       "\u001b[36mnonUnique\u001b[39m: \u001b[32mDataset\u001b[39m[\u001b[32mRow\u001b[39m] = [tranaction_id: int, count: bigint]\n",
       "\u001b[36mresult\u001b[39m: \u001b[32mDataFrame\u001b[39m = [tranaction_id: int, tx_datetime: timestamp ... 8 more fields]"
      ]
     },
     "execution_count": 15,
     "metadata": {},
     "output_type": "execute_result"
    }
   ],
   "source": [
    "import org.apache.spark.sql.functions._\n",
    "val nonUnique = RawTransactions.groupBy(\"tranaction_id\").count().filter(col(\"count\") > 1)\n",
    "//nonUnique.show()\n",
    "println(nonUnique.count)\n",
    "\n",
    "val result = RawTransactions.join(nonUnique, Seq(\"tranaction_id\"), \"inner\")\n",
    "\n",
    "result.show()"
   ]
  },
  {
   "cell_type": "code",
   "execution_count": 15,
   "id": "7ee52b88",
   "metadata": {},
   "outputs": [],
   "source": [
    "/*\n",
    "import $ivy.`org.plotly-scala::plotly-almond:0.5.4`\n",
    "import plotly._, plotly.element._, plotly.layout._, plotly.Almond._\n",
    "val tx_amount = RawTransactions.select(\"tx_amount\")\n",
    "\n",
    "// Создание объекта данных\n",
    "val data = Histogram(RawTransactions, x = \"tx_amount\")\n",
    "\n",
    "// Создание объекта верстки\n",
    "val layout = Layout(\n",
    "  title = \"Распределение tx_amount\",\n",
    "  xaxis = Axis(title = \"tx_amount\"),\n",
    "  yaxis = Axis(title = \"Количество\")\n",
    ")\n",
    "\n",
    "// Отрисовка диаграммы\n",
    "plot(data, layout)\n",
    "*/"
   ]
  },
  {
   "cell_type": "code",
   "execution_count": 15,
   "id": "d9826252",
   "metadata": {},
   "outputs": [],
   "source": [
    "/*\n",
    "val pathToSave: String = \"OTUS/parquet_test\"\n",
    "\n",
    "RawTransactions.write\n",
    "    .option(\"compression\", \"gzip\")\n",
    "    .mode(\"overwrite\")  \n",
    "    .partitionBy(\"tx_datetime\")\n",
    "    .parquet(pathToSave)\n",
    "\n",
    "*/\n",
    "\n",
    "/*\n",
    "RawTransactions.write\n",
    "    .option(\"compression\", \"gzip\")\n",
    "    .mode(\"overwrite\")\n",
    "    .partitionBy(\"tx_datetime\")\n",
    "    .format(\"parquet\")\n",
    "    .save(pathToSave)\n",
    "*/"
   ]
  }
 ],
 "metadata": {
  "kernelspec": {
   "display_name": "Scala",
   "language": "scala",
   "name": "scala"
  },
  "language_info": {
   "codemirror_mode": "text/x-scala",
   "file_extension": ".scala",
   "mimetype": "text/x-scala",
   "name": "scala",
   "nbconvert_exporter": "script",
   "version": "2.12.11"
  }
 },
 "nbformat": 4,
 "nbformat_minor": 5
}
