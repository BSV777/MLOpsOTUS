{
 "cells": [
  {
   "cell_type": "code",
   "execution_count": 1,
   "id": "8e8ef04b",
   "metadata": {},
   "outputs": [],
   "source": [
    "import re\n",
    "import pandas as pd\n",
    "import numpy as np\n",
    "import matplotlib.pyplot as plt\n",
    "from IPython.display import display, HTML, Markdown\n",
    "import seaborn as sns\n",
    "from time import time, strftime\n",
    "import datetime\n",
    "import openpyxl\n",
    "import seaborn as sns\n",
    "%matplotlib inline"
   ]
  },
  {
   "cell_type": "code",
   "execution_count": 2,
   "id": "c9d29ed2",
   "metadata": {},
   "outputs": [],
   "source": [
    "start_time = time()"
   ]
  },
  {
   "cell_type": "code",
   "execution_count": 3,
   "id": "398fa433",
   "metadata": {},
   "outputs": [
    {
     "data": {
      "text/html": [
       "<style>.container { width:100% !important; }</style>"
      ],
      "text/plain": [
       "<IPython.core.display.HTML object>"
      ]
     },
     "metadata": {},
     "output_type": "display_data"
    }
   ],
   "source": [
    "#Настройки отображения данных в ноутбуке\n",
    "from IPython.core.display import display, HTML\n",
    "display(HTML(\"<style>.container { width:100% !important; }</style>\"))\n",
    "pd.options.mode.chained_assignment = None  # default='warn'\n",
    "# pd.set_option('display.max_rows', None)\n",
    "pd.set_option('display.max_rows', 100)\n",
    "pd.set_option('display.max_colwidth', None)\n",
    "plt.rcParams['figure.figsize'] = [10, 10]"
   ]
  },
  {
   "cell_type": "code",
   "execution_count": 4,
   "id": "717bebb1",
   "metadata": {},
   "outputs": [],
   "source": [
    "def parse_date(s):\n",
    "    try:\n",
    "        dt = datetime.datetime.strptime(s, '%Y-%m-%d %H:%M:%S')\n",
    "        if dt.year < 1900 or dt.year > 2100 or dt.month < 1 or dt.month > 12 or dt.day < 1 or dt.day > 31 or \\\n",
    "            dt.hour < 0 or dt.hour > 23 or dt.minute < 0 or dt.minute > 59 or dt.second < 0 or dt.second > 59:\n",
    "            return None\n",
    "        return dt\n",
    "    except ValueError:\n",
    "        return None"
   ]
  },
  {
   "cell_type": "code",
   "execution_count": 5,
   "id": "79b34770",
   "metadata": {},
   "outputs": [],
   "source": [
    "RawTransactions = pd.read_csv('../../../fraud-data/2019-08-22.txt', sep=',', \n",
    "                   header=None,\n",
    "                   low_memory=False,\n",
    "                   skiprows=[0],                   \n",
    "                   parse_dates=[1],\n",
    "                   date_parser=parse_date,\n",
    "                   names=['tranaction_id', 'tx_datetime', 'customer_id', 'terminal_id', \n",
    "                          'tx_amount', 'tx_time_seconds', 'tx_time_days', 'tx_fraud', \n",
    "                          'tx_fraud_scenario'])"
   ]
  },
  {
   "cell_type": "code",
   "execution_count": 6,
   "id": "65ffa271",
   "metadata": {},
   "outputs": [
    {
     "data": {
      "text/html": [
       "<div>\n",
       "<style scoped>\n",
       "    .dataframe tbody tr th:only-of-type {\n",
       "        vertical-align: middle;\n",
       "    }\n",
       "\n",
       "    .dataframe tbody tr th {\n",
       "        vertical-align: top;\n",
       "    }\n",
       "\n",
       "    .dataframe thead th {\n",
       "        text-align: right;\n",
       "    }\n",
       "</style>\n",
       "<table border=\"1\" class=\"dataframe\">\n",
       "  <thead>\n",
       "    <tr style=\"text-align: right;\">\n",
       "      <th></th>\n",
       "      <th>tranaction_id</th>\n",
       "      <th>tx_datetime</th>\n",
       "      <th>customer_id</th>\n",
       "      <th>terminal_id</th>\n",
       "      <th>tx_amount</th>\n",
       "      <th>tx_time_seconds</th>\n",
       "      <th>tx_time_days</th>\n",
       "      <th>tx_fraud</th>\n",
       "      <th>tx_fraud_scenario</th>\n",
       "      <th>parsing_error</th>\n",
       "    </tr>\n",
       "  </thead>\n",
       "  <tbody>\n",
       "    <tr>\n",
       "      <th>0</th>\n",
       "      <td>0</td>\n",
       "      <td>2019-08-22 06:51:03</td>\n",
       "      <td>0</td>\n",
       "      <td>711</td>\n",
       "      <td>70.91</td>\n",
       "      <td>24663</td>\n",
       "      <td>0</td>\n",
       "      <td>0</td>\n",
       "      <td>0</td>\n",
       "      <td></td>\n",
       "    </tr>\n",
       "    <tr>\n",
       "      <th>1</th>\n",
       "      <td>1</td>\n",
       "      <td>2019-08-22 05:10:37</td>\n",
       "      <td>0</td>\n",
       "      <td>0</td>\n",
       "      <td>90.55</td>\n",
       "      <td>18637</td>\n",
       "      <td>0</td>\n",
       "      <td>0</td>\n",
       "      <td>0</td>\n",
       "      <td>terminal_id=0;</td>\n",
       "    </tr>\n",
       "    <tr>\n",
       "      <th>2</th>\n",
       "      <td>2</td>\n",
       "      <td>2019-08-22 19:05:33</td>\n",
       "      <td>0</td>\n",
       "      <td>753</td>\n",
       "      <td>35.38</td>\n",
       "      <td>68733</td>\n",
       "      <td>0</td>\n",
       "      <td>0</td>\n",
       "      <td>0</td>\n",
       "      <td></td>\n",
       "    </tr>\n",
       "    <tr>\n",
       "      <th>3</th>\n",
       "      <td>3</td>\n",
       "      <td>2019-08-22 07:21:33</td>\n",
       "      <td>0</td>\n",
       "      <td>0</td>\n",
       "      <td>80.41</td>\n",
       "      <td>26493</td>\n",
       "      <td>0</td>\n",
       "      <td>0</td>\n",
       "      <td>0</td>\n",
       "      <td>terminal_id=0;</td>\n",
       "    </tr>\n",
       "    <tr>\n",
       "      <th>4</th>\n",
       "      <td>4</td>\n",
       "      <td>2019-08-22 09:06:17</td>\n",
       "      <td>1</td>\n",
       "      <td>981</td>\n",
       "      <td>102.83</td>\n",
       "      <td>32777</td>\n",
       "      <td>0</td>\n",
       "      <td>0</td>\n",
       "      <td>0</td>\n",
       "      <td></td>\n",
       "    </tr>\n",
       "    <tr>\n",
       "      <th>...</th>\n",
       "      <td>...</td>\n",
       "      <td>...</td>\n",
       "      <td>...</td>\n",
       "      <td>...</td>\n",
       "      <td>...</td>\n",
       "      <td>...</td>\n",
       "      <td>...</td>\n",
       "      <td>...</td>\n",
       "      <td>...</td>\n",
       "      <td>...</td>\n",
       "    </tr>\n",
       "    <tr>\n",
       "      <th>46988413</th>\n",
       "      <td>46988232</td>\n",
       "      <td>2019-09-20 09:10:40</td>\n",
       "      <td>999996</td>\n",
       "      <td>954</td>\n",
       "      <td>66.92</td>\n",
       "      <td>2538640</td>\n",
       "      <td>29</td>\n",
       "      <td>0</td>\n",
       "      <td>0</td>\n",
       "      <td></td>\n",
       "    </tr>\n",
       "    <tr>\n",
       "      <th>46988414</th>\n",
       "      <td>46988233</td>\n",
       "      <td>2019-09-20 13:52:13</td>\n",
       "      <td>999996</td>\n",
       "      <td>871</td>\n",
       "      <td>30.26</td>\n",
       "      <td>2555533</td>\n",
       "      <td>29</td>\n",
       "      <td>0</td>\n",
       "      <td>0</td>\n",
       "      <td></td>\n",
       "    </tr>\n",
       "    <tr>\n",
       "      <th>46988415</th>\n",
       "      <td>46988234</td>\n",
       "      <td>2019-09-20 15:57:00</td>\n",
       "      <td>999996</td>\n",
       "      <td>594</td>\n",
       "      <td>111.17</td>\n",
       "      <td>2563020</td>\n",
       "      <td>29</td>\n",
       "      <td>0</td>\n",
       "      <td>0</td>\n",
       "      <td></td>\n",
       "    </tr>\n",
       "    <tr>\n",
       "      <th>46988416</th>\n",
       "      <td>46988235</td>\n",
       "      <td>2019-09-20 11:23:45</td>\n",
       "      <td>999998</td>\n",
       "      <td>832</td>\n",
       "      <td>14.02</td>\n",
       "      <td>2546625</td>\n",
       "      <td>29</td>\n",
       "      <td>0</td>\n",
       "      <td>0</td>\n",
       "      <td></td>\n",
       "    </tr>\n",
       "    <tr>\n",
       "      <th>46988417</th>\n",
       "      <td>46988236</td>\n",
       "      <td>2019-09-20 06:44:22</td>\n",
       "      <td>999999</td>\n",
       "      <td>189</td>\n",
       "      <td>25.62</td>\n",
       "      <td>2529862</td>\n",
       "      <td>29</td>\n",
       "      <td>0</td>\n",
       "      <td>0</td>\n",
       "      <td>customer_id=999999;</td>\n",
       "    </tr>\n",
       "  </tbody>\n",
       "</table>\n",
       "<p>46988418 rows × 10 columns</p>\n",
       "</div>"
      ],
      "text/plain": [
       "          tranaction_id         tx_datetime  customer_id  terminal_id  \\\n",
       "0                     0 2019-08-22 06:51:03            0          711   \n",
       "1                     1 2019-08-22 05:10:37            0            0   \n",
       "2                     2 2019-08-22 19:05:33            0          753   \n",
       "3                     3 2019-08-22 07:21:33            0            0   \n",
       "4                     4 2019-08-22 09:06:17            1          981   \n",
       "...                 ...                 ...          ...          ...   \n",
       "46988413       46988232 2019-09-20 09:10:40       999996          954   \n",
       "46988414       46988233 2019-09-20 13:52:13       999996          871   \n",
       "46988415       46988234 2019-09-20 15:57:00       999996          594   \n",
       "46988416       46988235 2019-09-20 11:23:45       999998          832   \n",
       "46988417       46988236 2019-09-20 06:44:22       999999          189   \n",
       "\n",
       "          tx_amount  tx_time_seconds  tx_time_days  tx_fraud  \\\n",
       "0             70.91            24663             0         0   \n",
       "1             90.55            18637             0         0   \n",
       "2             35.38            68733             0         0   \n",
       "3             80.41            26493             0         0   \n",
       "4            102.83            32777             0         0   \n",
       "...             ...              ...           ...       ...   \n",
       "46988413      66.92          2538640            29         0   \n",
       "46988414      30.26          2555533            29         0   \n",
       "46988415     111.17          2563020            29         0   \n",
       "46988416      14.02          2546625            29         0   \n",
       "46988417      25.62          2529862            29         0   \n",
       "\n",
       "          tx_fraud_scenario         parsing_error  \n",
       "0                         0                        \n",
       "1                         0       terminal_id=0;   \n",
       "2                         0                        \n",
       "3                         0       terminal_id=0;   \n",
       "4                         0                        \n",
       "...                     ...                   ...  \n",
       "46988413                  0                        \n",
       "46988414                  0                        \n",
       "46988415                  0                        \n",
       "46988416                  0                        \n",
       "46988417                  0  customer_id=999999;   \n",
       "\n",
       "[46988418 rows x 10 columns]"
      ]
     },
     "execution_count": 6,
     "metadata": {},
     "output_type": "execute_result"
    }
   ],
   "source": [
    "RawTransactions['parsing_error'] = ''\n",
    "RawTransactions['parsing_error'][RawTransactions['tx_datetime'].isna()] += \"tx_datetime-error; \"\n",
    "duplicates = RawTransactions.duplicated(subset=['tranaction_id'], keep='first')\n",
    "RawTransactions['parsing_error'][duplicates] += \"duplicate tranaction_id; \"\n",
    "RawTransactions['parsing_error'][RawTransactions['tx_amount'] == 0] += \"tx_amount=0; \"\n",
    "RawTransactions['parsing_error'][abs(RawTransactions['customer_id']) == 999999] += \"customer_id=\" + RawTransactions['customer_id'].astype(str) + \"; \"\n",
    "RawTransactions['parsing_error'][(RawTransactions['terminal_id'] == 0) | (RawTransactions['terminal_id'] > 10000)] += \"terminal_id=\" + \\\n",
    "    RawTransactions['terminal_id'].astype(str) + \"; \"\n",
    "\n",
    "RawTransactions"
   ]
  },
  {
   "cell_type": "code",
   "execution_count": 6,
   "id": "c8e6cbc2",
   "metadata": {},
   "outputs": [
    {
     "name": "stdout",
     "output_type": "stream",
     "text": [
      "<class 'pandas.core.frame.DataFrame'>\n",
      "RangeIndex: 46988418 entries, 0 to 46988417\n",
      "Data columns (total 10 columns):\n",
      " #   Column             Dtype         \n",
      "---  ------             -----         \n",
      " 0   tranaction_id      int64         \n",
      " 1   tx_datetime        datetime64[ns]\n",
      " 2   customer_id        int64         \n",
      " 3   terminal_id        int64         \n",
      " 4   tx_amount          float64       \n",
      " 5   tx_time_seconds    int64         \n",
      " 6   tx_time_days       int64         \n",
      " 7   tx_fraud           int64         \n",
      " 8   tx_fraud_scenario  int64         \n",
      " 9   parsing_error      object        \n",
      "dtypes: datetime64[ns](1), float64(1), int64(7), object(1)\n",
      "memory usage: 3.5+ GB\n"
     ]
    }
   ],
   "source": [
    "RawTransactions.info()"
   ]
  },
  {
   "cell_type": "code",
   "execution_count": 7,
   "id": "fce355a1",
   "metadata": {},
   "outputs": [
    {
     "data": {
      "text/html": [
       "<div>\n",
       "<style scoped>\n",
       "    .dataframe tbody tr th:only-of-type {\n",
       "        vertical-align: middle;\n",
       "    }\n",
       "\n",
       "    .dataframe tbody tr th {\n",
       "        vertical-align: top;\n",
       "    }\n",
       "\n",
       "    .dataframe thead th {\n",
       "        text-align: right;\n",
       "    }\n",
       "</style>\n",
       "<table border=\"1\" class=\"dataframe\">\n",
       "  <thead>\n",
       "    <tr style=\"text-align: right;\">\n",
       "      <th></th>\n",
       "      <th>tranaction_id</th>\n",
       "      <th>customer_id</th>\n",
       "      <th>terminal_id</th>\n",
       "      <th>tx_amount</th>\n",
       "      <th>tx_time_seconds</th>\n",
       "      <th>tx_time_days</th>\n",
       "      <th>tx_fraud</th>\n",
       "      <th>tx_fraud_scenario</th>\n",
       "    </tr>\n",
       "  </thead>\n",
       "  <tbody>\n",
       "    <tr>\n",
       "      <th>count</th>\n",
       "      <td>4.698842e+07</td>\n",
       "      <td>4.698842e+07</td>\n",
       "      <td>4.698842e+07</td>\n",
       "      <td>4.698842e+07</td>\n",
       "      <td>4.698842e+07</td>\n",
       "      <td>4.698842e+07</td>\n",
       "      <td>4.698842e+07</td>\n",
       "      <td>4.698842e+07</td>\n",
       "    </tr>\n",
       "    <tr>\n",
       "      <th>mean</th>\n",
       "      <td>2.349412e+07</td>\n",
       "      <td>5.004338e+05</td>\n",
       "      <td>2.659723e+04</td>\n",
       "      <td>5.423396e+01</td>\n",
       "      <td>1.296055e+06</td>\n",
       "      <td>1.450063e+01</td>\n",
       "      <td>5.377932e-02</td>\n",
       "      <td>1.084151e-01</td>\n",
       "    </tr>\n",
       "    <tr>\n",
       "      <th>std</th>\n",
       "      <td>1.356433e+07</td>\n",
       "      <td>2.885392e+05</td>\n",
       "      <td>1.528138e+06</td>\n",
       "      <td>4.125034e+01</td>\n",
       "      <td>7.480495e+05</td>\n",
       "      <td>8.655416e+00</td>\n",
       "      <td>2.255817e-01</td>\n",
       "      <td>4.568781e-01</td>\n",
       "    </tr>\n",
       "    <tr>\n",
       "      <th>min</th>\n",
       "      <td>0.000000e+00</td>\n",
       "      <td>-9.999990e+05</td>\n",
       "      <td>0.000000e+00</td>\n",
       "      <td>0.000000e+00</td>\n",
       "      <td>0.000000e+00</td>\n",
       "      <td>0.000000e+00</td>\n",
       "      <td>0.000000e+00</td>\n",
       "      <td>0.000000e+00</td>\n",
       "    </tr>\n",
       "    <tr>\n",
       "      <th>25%</th>\n",
       "      <td>1.174706e+07</td>\n",
       "      <td>2.507560e+05</td>\n",
       "      <td>1.970000e+02</td>\n",
       "      <td>2.195000e+01</td>\n",
       "      <td>6.480142e+05</td>\n",
       "      <td>7.000000e+00</td>\n",
       "      <td>0.000000e+00</td>\n",
       "      <td>0.000000e+00</td>\n",
       "    </tr>\n",
       "    <tr>\n",
       "      <th>50%</th>\n",
       "      <td>2.349411e+07</td>\n",
       "      <td>5.008120e+05</td>\n",
       "      <td>5.110000e+02</td>\n",
       "      <td>4.540000e+01</td>\n",
       "      <td>1.296375e+06</td>\n",
       "      <td>1.500000e+01</td>\n",
       "      <td>0.000000e+00</td>\n",
       "      <td>0.000000e+00</td>\n",
       "    </tr>\n",
       "    <tr>\n",
       "      <th>75%</th>\n",
       "      <td>3.524117e+07</td>\n",
       "      <td>7.501520e+05</td>\n",
       "      <td>7.970000e+02</td>\n",
       "      <td>7.778000e+01</td>\n",
       "      <td>1.944057e+06</td>\n",
       "      <td>2.200000e+01</td>\n",
       "      <td>0.000000e+00</td>\n",
       "      <td>0.000000e+00</td>\n",
       "    </tr>\n",
       "    <tr>\n",
       "      <th>max</th>\n",
       "      <td>4.698824e+07</td>\n",
       "      <td>9.999990e+05</td>\n",
       "      <td>8.951810e+07</td>\n",
       "      <td>3.773340e+03</td>\n",
       "      <td>2.592000e+06</td>\n",
       "      <td>2.900000e+01</td>\n",
       "      <td>1.000000e+00</td>\n",
       "      <td>3.000000e+00</td>\n",
       "    </tr>\n",
       "  </tbody>\n",
       "</table>\n",
       "</div>"
      ],
      "text/plain": [
       "       tranaction_id   customer_id   terminal_id     tx_amount  \\\n",
       "count   4.698842e+07  4.698842e+07  4.698842e+07  4.698842e+07   \n",
       "mean    2.349412e+07  5.004338e+05  2.659723e+04  5.423396e+01   \n",
       "std     1.356433e+07  2.885392e+05  1.528138e+06  4.125034e+01   \n",
       "min     0.000000e+00 -9.999990e+05  0.000000e+00  0.000000e+00   \n",
       "25%     1.174706e+07  2.507560e+05  1.970000e+02  2.195000e+01   \n",
       "50%     2.349411e+07  5.008120e+05  5.110000e+02  4.540000e+01   \n",
       "75%     3.524117e+07  7.501520e+05  7.970000e+02  7.778000e+01   \n",
       "max     4.698824e+07  9.999990e+05  8.951810e+07  3.773340e+03   \n",
       "\n",
       "       tx_time_seconds  tx_time_days      tx_fraud  tx_fraud_scenario  \n",
       "count     4.698842e+07  4.698842e+07  4.698842e+07       4.698842e+07  \n",
       "mean      1.296055e+06  1.450063e+01  5.377932e-02       1.084151e-01  \n",
       "std       7.480495e+05  8.655416e+00  2.255817e-01       4.568781e-01  \n",
       "min       0.000000e+00  0.000000e+00  0.000000e+00       0.000000e+00  \n",
       "25%       6.480142e+05  7.000000e+00  0.000000e+00       0.000000e+00  \n",
       "50%       1.296375e+06  1.500000e+01  0.000000e+00       0.000000e+00  \n",
       "75%       1.944057e+06  2.200000e+01  0.000000e+00       0.000000e+00  \n",
       "max       2.592000e+06  2.900000e+01  1.000000e+00       3.000000e+00  "
      ]
     },
     "execution_count": 7,
     "metadata": {},
     "output_type": "execute_result"
    }
   ],
   "source": [
    "RawTransactions.describe()"
   ]
  },
  {
   "cell_type": "code",
   "execution_count": 7,
   "id": "8e1f19a8",
   "metadata": {},
   "outputs": [
    {
     "data": {
      "text/html": [
       "<div>\n",
       "<style scoped>\n",
       "    .dataframe tbody tr th:only-of-type {\n",
       "        vertical-align: middle;\n",
       "    }\n",
       "\n",
       "    .dataframe tbody tr th {\n",
       "        vertical-align: top;\n",
       "    }\n",
       "\n",
       "    .dataframe thead th {\n",
       "        text-align: right;\n",
       "    }\n",
       "</style>\n",
       "<table border=\"1\" class=\"dataframe\">\n",
       "  <thead>\n",
       "    <tr style=\"text-align: right;\">\n",
       "      <th></th>\n",
       "      <th>tranaction_id</th>\n",
       "      <th>tx_datetime</th>\n",
       "      <th>customer_id</th>\n",
       "      <th>terminal_id</th>\n",
       "      <th>tx_amount</th>\n",
       "      <th>tx_time_seconds</th>\n",
       "      <th>tx_time_days</th>\n",
       "      <th>tx_fraud</th>\n",
       "      <th>tx_fraud_scenario</th>\n",
       "      <th>parsing_error</th>\n",
       "    </tr>\n",
       "  </thead>\n",
       "  <tbody>\n",
       "    <tr>\n",
       "      <th>1</th>\n",
       "      <td>1</td>\n",
       "      <td>2019-08-22 05:10:37</td>\n",
       "      <td>0</td>\n",
       "      <td>0</td>\n",
       "      <td>90.55</td>\n",
       "      <td>18637</td>\n",
       "      <td>0</td>\n",
       "      <td>0</td>\n",
       "      <td>0</td>\n",
       "      <td>terminal_id=0;</td>\n",
       "    </tr>\n",
       "    <tr>\n",
       "      <th>3</th>\n",
       "      <td>3</td>\n",
       "      <td>2019-08-22 07:21:33</td>\n",
       "      <td>0</td>\n",
       "      <td>0</td>\n",
       "      <td>80.41</td>\n",
       "      <td>26493</td>\n",
       "      <td>0</td>\n",
       "      <td>0</td>\n",
       "      <td>0</td>\n",
       "      <td>terminal_id=0;</td>\n",
       "    </tr>\n",
       "    <tr>\n",
       "      <th>6</th>\n",
       "      <td>6</td>\n",
       "      <td>2019-08-22 03:12:21</td>\n",
       "      <td>3</td>\n",
       "      <td>0</td>\n",
       "      <td>47.20</td>\n",
       "      <td>11541</td>\n",
       "      <td>0</td>\n",
       "      <td>0</td>\n",
       "      <td>0</td>\n",
       "      <td>terminal_id=0;</td>\n",
       "    </tr>\n",
       "    <tr>\n",
       "      <th>12</th>\n",
       "      <td>12</td>\n",
       "      <td>2019-08-22 15:47:54</td>\n",
       "      <td>10</td>\n",
       "      <td>0</td>\n",
       "      <td>58.89</td>\n",
       "      <td>56874</td>\n",
       "      <td>0</td>\n",
       "      <td>0</td>\n",
       "      <td>0</td>\n",
       "      <td>terminal_id=0;</td>\n",
       "    </tr>\n",
       "    <tr>\n",
       "      <th>69</th>\n",
       "      <td>69</td>\n",
       "      <td>2019-08-22 12:00:23</td>\n",
       "      <td>44</td>\n",
       "      <td>0</td>\n",
       "      <td>70.64</td>\n",
       "      <td>43223</td>\n",
       "      <td>0</td>\n",
       "      <td>0</td>\n",
       "      <td>0</td>\n",
       "      <td>terminal_id=0;</td>\n",
       "    </tr>\n",
       "    <tr>\n",
       "      <th>...</th>\n",
       "      <td>...</td>\n",
       "      <td>...</td>\n",
       "      <td>...</td>\n",
       "      <td>...</td>\n",
       "      <td>...</td>\n",
       "      <td>...</td>\n",
       "      <td>...</td>\n",
       "      <td>...</td>\n",
       "      <td>...</td>\n",
       "      <td>...</td>\n",
       "    </tr>\n",
       "    <tr>\n",
       "      <th>46988386</th>\n",
       "      <td>46988205</td>\n",
       "      <td>2019-09-20 14:16:59</td>\n",
       "      <td>999979</td>\n",
       "      <td>0</td>\n",
       "      <td>91.47</td>\n",
       "      <td>2557019</td>\n",
       "      <td>29</td>\n",
       "      <td>0</td>\n",
       "      <td>0</td>\n",
       "      <td>terminal_id=0;</td>\n",
       "    </tr>\n",
       "    <tr>\n",
       "      <th>46988400</th>\n",
       "      <td>46988219</td>\n",
       "      <td>2019-09-20 10:04:02</td>\n",
       "      <td>999987</td>\n",
       "      <td>0</td>\n",
       "      <td>52.94</td>\n",
       "      <td>2541842</td>\n",
       "      <td>29</td>\n",
       "      <td>0</td>\n",
       "      <td>0</td>\n",
       "      <td>terminal_id=0;</td>\n",
       "    </tr>\n",
       "    <tr>\n",
       "      <th>46988401</th>\n",
       "      <td>46988220</td>\n",
       "      <td>2019-09-20 17:18:10</td>\n",
       "      <td>999987</td>\n",
       "      <td>0</td>\n",
       "      <td>45.04</td>\n",
       "      <td>2567890</td>\n",
       "      <td>29</td>\n",
       "      <td>0</td>\n",
       "      <td>0</td>\n",
       "      <td>terminal_id=0;</td>\n",
       "    </tr>\n",
       "    <tr>\n",
       "      <th>46988402</th>\n",
       "      <td>46988221</td>\n",
       "      <td>2019-09-20 17:38:31</td>\n",
       "      <td>999987</td>\n",
       "      <td>0</td>\n",
       "      <td>57.16</td>\n",
       "      <td>2569111</td>\n",
       "      <td>29</td>\n",
       "      <td>0</td>\n",
       "      <td>0</td>\n",
       "      <td>terminal_id=0;</td>\n",
       "    </tr>\n",
       "    <tr>\n",
       "      <th>46988417</th>\n",
       "      <td>46988236</td>\n",
       "      <td>2019-09-20 06:44:22</td>\n",
       "      <td>999999</td>\n",
       "      <td>189</td>\n",
       "      <td>25.62</td>\n",
       "      <td>2529862</td>\n",
       "      <td>29</td>\n",
       "      <td>0</td>\n",
       "      <td>0</td>\n",
       "      <td>customer_id=999999;</td>\n",
       "    </tr>\n",
       "  </tbody>\n",
       "</table>\n",
       "<p>2058532 rows × 10 columns</p>\n",
       "</div>"
      ],
      "text/plain": [
       "          tranaction_id         tx_datetime  customer_id  terminal_id  \\\n",
       "1                     1 2019-08-22 05:10:37            0            0   \n",
       "3                     3 2019-08-22 07:21:33            0            0   \n",
       "6                     6 2019-08-22 03:12:21            3            0   \n",
       "12                   12 2019-08-22 15:47:54           10            0   \n",
       "69                   69 2019-08-22 12:00:23           44            0   \n",
       "...                 ...                 ...          ...          ...   \n",
       "46988386       46988205 2019-09-20 14:16:59       999979            0   \n",
       "46988400       46988219 2019-09-20 10:04:02       999987            0   \n",
       "46988401       46988220 2019-09-20 17:18:10       999987            0   \n",
       "46988402       46988221 2019-09-20 17:38:31       999987            0   \n",
       "46988417       46988236 2019-09-20 06:44:22       999999          189   \n",
       "\n",
       "          tx_amount  tx_time_seconds  tx_time_days  tx_fraud  \\\n",
       "1             90.55            18637             0         0   \n",
       "3             80.41            26493             0         0   \n",
       "6             47.20            11541             0         0   \n",
       "12            58.89            56874             0         0   \n",
       "69            70.64            43223             0         0   \n",
       "...             ...              ...           ...       ...   \n",
       "46988386      91.47          2557019            29         0   \n",
       "46988400      52.94          2541842            29         0   \n",
       "46988401      45.04          2567890            29         0   \n",
       "46988402      57.16          2569111            29         0   \n",
       "46988417      25.62          2529862            29         0   \n",
       "\n",
       "          tx_fraud_scenario         parsing_error  \n",
       "1                         0       terminal_id=0;   \n",
       "3                         0       terminal_id=0;   \n",
       "6                         0       terminal_id=0;   \n",
       "12                        0       terminal_id=0;   \n",
       "69                        0       terminal_id=0;   \n",
       "...                     ...                   ...  \n",
       "46988386                  0       terminal_id=0;   \n",
       "46988400                  0       terminal_id=0;   \n",
       "46988401                  0       terminal_id=0;   \n",
       "46988402                  0       terminal_id=0;   \n",
       "46988417                  0  customer_id=999999;   \n",
       "\n",
       "[2058532 rows x 10 columns]"
      ]
     },
     "execution_count": 7,
     "metadata": {},
     "output_type": "execute_result"
    }
   ],
   "source": [
    "parsing_error = RawTransactions[RawTransactions['parsing_error'] != '']\n",
    "parsing_error"
   ]
  },
  {
   "cell_type": "code",
   "execution_count": 8,
   "id": "1396f02e",
   "metadata": {},
   "outputs": [
    {
     "data": {
      "text/plain": [
       "terminal_id=0;                                 2041623\n",
       "terminal_id=89518096;                            13696\n",
       "terminal_id=21861;                                1552\n",
       "tx_amount=0;                                       850\n",
       "terminal_id=22225;                                 333\n",
       "duplicate tranaction_id;                           172\n",
       "tx_datetime-error;                                  95\n",
       "terminal_id=618230;                                 77\n",
       "customer_id=-999999;                                62\n",
       "tx_amount=0; terminal_id=0;                         33\n",
       "customer_id=999999;                                 19\n",
       "duplicate tranaction_id; terminal_id=0;              9\n",
       "tx_datetime-error; terminal_id=0;                    5\n",
       "terminal_id=436002;                                  2\n",
       "customer_id=-999999; terminal_id=89518096;           1\n",
       "terminal_id=22129;                                   1\n",
       "tx_amount=0; terminal_id=21861;                      1\n",
       "customer_id=-999999; terminal_id=0;                  1\n",
       "Name: parsing_error, dtype: int64"
      ]
     },
     "execution_count": 8,
     "metadata": {},
     "output_type": "execute_result"
    }
   ],
   "source": [
    "parsing_error['parsing_error'].value_counts()"
   ]
  },
  {
   "cell_type": "code",
   "execution_count": null,
   "id": "c3f22447",
   "metadata": {},
   "outputs": [],
   "source": [
    "# parsing_error.to_excel(\"parsing_error.xlsx\", sheet_name=\"parsing_error\", index=False)"
   ]
  },
  {
   "cell_type": "code",
   "execution_count": null,
   "id": "af1ee96d",
   "metadata": {},
   "outputs": [],
   "source": [
    "sns.displot(RawTransactions['tx_amount'])"
   ]
  },
  {
   "cell_type": "code",
   "execution_count": 9,
   "id": "02ce1a33",
   "metadata": {},
   "outputs": [
    {
     "data": {
      "text/plain": [
       "<seaborn.axisgrid.FacetGrid at 0x7f507ab36880>"
      ]
     },
     "execution_count": 9,
     "metadata": {},
     "output_type": "execute_result"
    },
    {
     "data": {
      "image/png": "[encoded data removed]",
      "text/plain": [
       "<Figure size 360x360 with 1 Axes>"
      ]
     },
     "metadata": {
      "needs_background": "light"
     },
     "output_type": "display_data"
    }
   ],
   "source": [
    "sns.displot(RawTransactions['customer_id'])"
   ]
  },
  {
   "cell_type": "code",
   "execution_count": 10,
   "id": "4bca1918",
   "metadata": {},
   "outputs": [
    {
     "data": {
      "text/plain": [
       "918024    121\n",
       "857766    120\n",
       "330952    119\n",
       "399172    118\n",
       "368394    117\n",
       "         ... \n",
       "391720      1\n",
       "295866      1\n",
       "603525      1\n",
       "116160      1\n",
       "852868      1\n",
       "Name: customer_id, Length: 988545, dtype: int64"
      ]
     },
     "execution_count": 10,
     "metadata": {},
     "output_type": "execute_result"
    }
   ],
   "source": [
    "RawTransactions['customer_id'].value_counts()"
   ]
  },
  {
   "cell_type": "code",
   "execution_count": null,
   "id": "779c115c",
   "metadata": {},
   "outputs": [],
   "source": [
    "sns.displot(RawTransactions['terminal_id'])"
   ]
  },
  {
   "cell_type": "code",
   "execution_count": 11,
   "id": "7cfe96b4",
   "metadata": {},
   "outputs": [
    {
     "data": {
      "text/plain": [
       "0         2041671\n",
       "145       1298690\n",
       "81         774927\n",
       "97         139794\n",
       "937         89375\n",
       "           ...   \n",
       "21861        1553\n",
       "22225         333\n",
       "618230         77\n",
       "436002          2\n",
       "22129           1\n",
       "Name: terminal_id, Length: 1006, dtype: int64"
      ]
     },
     "execution_count": 11,
     "metadata": {},
     "output_type": "execute_result"
    }
   ],
   "source": [
    "RawTransactions['terminal_id'].value_counts()"
   ]
  },
  {
   "cell_type": "code",
   "execution_count": null,
   "id": "2fd200ad",
   "metadata": {},
   "outputs": [],
   "source": [
    "sns.displot(RawTransactions['tx_fraud'])"
   ]
  },
  {
   "cell_type": "code",
   "execution_count": 12,
   "id": "a5bc0dfd",
   "metadata": {},
   "outputs": [
    {
     "data": {
      "text/plain": [
       "0    44461413\n",
       "1     2527005\n",
       "Name: tx_fraud, dtype: int64"
      ]
     },
     "execution_count": 12,
     "metadata": {},
     "output_type": "execute_result"
    }
   ],
   "source": [
    "RawTransactions['tx_fraud'].value_counts()"
   ]
  },
  {
   "cell_type": "code",
   "execution_count": 13,
   "id": "cc224e70",
   "metadata": {},
   "outputs": [
    {
     "data": {
      "text/plain": [
       "<seaborn.axisgrid.FacetGrid at 0x7f430f637520>"
      ]
     },
     "execution_count": 13,
     "metadata": {},
     "output_type": "execute_result"
    },
    {
     "data": {
      "image/png": "[encoded data removed]",
      "text/plain": [
       "<Figure size 360x360 with 1 Axes>"
      ]
     },
     "metadata": {
      "needs_background": "light"
     },
     "output_type": "display_data"
    }
   ],
   "source": [
    "sns.displot(RawTransactions['tx_fraud_scenario'])"
   ]
  },
  {
   "cell_type": "code",
   "execution_count": 15,
   "id": "d6a124d9",
   "metadata": {},
   "outputs": [
    {
     "data": {
      "text/plain": [
       "0    44461413\n",
       "2     2435456\n",
       "3       65896\n",
       "1       25653\n",
       "Name: tx_fraud_scenario, dtype: int64"
      ]
     },
     "execution_count": 15,
     "metadata": {},
     "output_type": "execute_result"
    }
   ],
   "source": [
    "RawTransactions['tx_fraud_scenario'].value_counts()"
   ]
  },
  {
   "cell_type": "code",
   "execution_count": null,
   "id": "b4dec7ed",
   "metadata": {},
   "outputs": [],
   "source": [
    "sns.displot(RawTransactions['tx_time_seconds'])"
   ]
  },
  {
   "cell_type": "code",
   "execution_count": null,
   "id": "839e2bf3",
   "metadata": {},
   "outputs": [],
   "source": [
    "sns.displot(RawTransactions['tx_time_days'])"
   ]
  }
 ],
 "metadata": {
  "kernelspec": {
   "display_name": "Python 3",
   "language": "python",
   "name": "python3"
  },
  "language_info": {
   "codemirror_mode": {
    "name": "ipython",
    "version": 3
   },
   "file_extension": ".py",
   "mimetype": "text/x-python",
   "name": "python",
   "nbconvert_exporter": "python",
   "pygments_lexer": "ipython3",
   "version": "3.8.8"
  }
 },
 "nbformat": 4,
 "nbformat_minor": 5
}
