{
 "cells": [
  {
   "cell_type": "code",
   "execution_count": 1,
   "id": "8e8ef04b",
   "metadata": {},
   "outputs": [],
   "source": [
    "import re\n",
    "import pandas as pd\n",
    "import numpy as np\n",
    "import matplotlib.pyplot as plt\n",
    "from IPython.display import display, HTML, Markdown\n",
    "import seaborn as sns\n",
    "from time import time, strftime\n",
    "import datetime\n",
    "import openpyxl\n",
    "import seaborn as sns\n",
    "%matplotlib inline"
   ]
  },
  {
   "cell_type": "code",
   "execution_count": 2,
   "id": "c9d29ed2",
   "metadata": {},
   "outputs": [],
   "source": [
    "start_time = time()"
   ]
  },
  {
   "cell_type": "code",
   "execution_count": 3,
   "id": "398fa433",
   "metadata": {},
   "outputs": [
    {
     "data": {
      "text/html": [
       "<style>.container { width:100% !important; }</style>"
      ],
      "text/plain": [
       "<IPython.core.display.HTML object>"
      ]
     },
     "metadata": {},
     "output_type": "display_data"
    }
   ],
   "source": [
    "#Настройки отображения данных в ноутбуке\n",
    "from IPython.core.display import display, HTML\n",
    "display(HTML(\"<style>.container { width:100% !important; }</style>\"))\n",
    "pd.options.mode.chained_assignment = None  # default='warn'\n",
    "# pd.set_option('display.max_rows', None)\n",
    "pd.set_option('display.max_rows', 100)\n",
    "pd.set_option('display.max_colwidth', None)\n",
    "plt.rcParams['figure.figsize'] = [10, 10]"
   ]
  },
  {
   "cell_type": "code",
   "execution_count": 9,
   "id": "717bebb1",
   "metadata": {},
   "outputs": [],
   "source": [
    "def parse_date(s):\n",
    "    try:\n",
    "        dt = datetime.datetime.strptime(s, '%Y-%m-%d %H:%M:%S')\n",
    "        if dt.year < 1900 or dt.year > 2100 or dt.month < 1 or dt.month > 12 or dt.day < 1 or dt.day > 31 or \\\n",
    "            dt.hour < 0 or dt.hour > 23 or dt.minute < 0 or dt.minute > 59 or dt.second < 0 or dt.second > 59:\n",
    "            return None\n",
    "        return dt\n",
    "    except ValueError:\n",
    "        return None"
   ]
  },
  {
   "cell_type": "code",
   "execution_count": null,
   "id": "79b34770",
   "metadata": {},
   "outputs": [],
   "source": [
    "RawTransactions = pd.read_csv('OTUS/fraud-data/2019-08-22_1.txt', sep=',', \n",
    "                   header=None,\n",
    "                   low_memory=False,\n",
    "                   skiprows=[0],                   \n",
    "                   parse_dates=[1],\n",
    "                   date_parser=parse_date,\n",
    "                   names=['tranaction_id', 'tx_datetime', 'customer_id', 'terminal_id', \n",
    "                          'tx_amount', 'tx_time_seconds', 'tx_time_days', 'tx_fraud', \n",
    "                          'tx_fraud_scenario'])\n",
    "\n",
    "RawTransactions['parsing_error'] = ''\n",
    "RawTransactions['parsing_error'][RawTransactions['tx_datetime'].isna()] += \"tx_datetime-error; \"\n",
    "duplicates = RawTransactions.duplicated(subset=['tranaction_id'], keep='first')\n",
    "RawTransactions['parsing_error'][duplicates] += \"duplicate tranaction_id; \"\n",
    "RawTransactions['parsing_error'][RawTransactions['tx_amount'] == 0] += \"tx_amount=0; \"\n",
    "RawTransactions['parsing_error'][abs(RawTransactions['customer_id']) == 999999] += \"customer_id=\" + RawTransactions['customer_id'].astype(str) + \"; \"\n",
    "RawTransactions['parsing_error'][(RawTransactions['terminal_id'] == 0) | (RawTransactions['terminal_id'] > 10000)] += \"terminal_id=\" + \\\n",
    "    RawTransactions['terminal_id'].astype(str) + \"; \"\n",
    "\n",
    "RawTransactions"
   ]
  },
  {
   "cell_type": "code",
   "execution_count": 5,
   "id": "c8e6cbc2",
   "metadata": {},
   "outputs": [
    {
     "name": "stdout",
     "output_type": "stream",
     "text": [
      "<class 'pandas.core.frame.DataFrame'>\n",
      "RangeIndex: 350000 entries, 0 to 349999\n",
      "Data columns (total 10 columns):\n",
      " #   Column             Non-Null Count   Dtype         \n",
      "---  ------             --------------   -----         \n",
      " 0   tranaction_id      350000 non-null  int64         \n",
      " 1   tx_datetime        350000 non-null  datetime64[ns]\n",
      " 2   customer_id        350000 non-null  int64         \n",
      " 3   terminal_id        350000 non-null  int64         \n",
      " 4   tx_amount          350000 non-null  float64       \n",
      " 5   tx_time_seconds    350000 non-null  int64         \n",
      " 6   tx_time_days       350000 non-null  int64         \n",
      " 7   tx_fraud           350000 non-null  int64         \n",
      " 8   tx_fraud_scenario  350000 non-null  int64         \n",
      " 9   parsing_error      350000 non-null  object        \n",
      "dtypes: datetime64[ns](1), float64(1), int64(7), object(1)\n",
      "memory usage: 26.7+ MB\n"
     ]
    }
   ],
   "source": [
    "RawTransactions.info()"
   ]
  },
  {
   "cell_type": "code",
   "execution_count": 6,
   "id": "fce355a1",
   "metadata": {},
   "outputs": [
    {
     "data": {
      "text/html": [
       "<div>\n",
       "<style scoped>\n",
       "    .dataframe tbody tr th:only-of-type {\n",
       "        vertical-align: middle;\n",
       "    }\n",
       "\n",
       "    .dataframe tbody tr th {\n",
       "        vertical-align: top;\n",
       "    }\n",
       "\n",
       "    .dataframe thead th {\n",
       "        text-align: right;\n",
       "    }\n",
       "</style>\n",
       "<table border=\"1\" class=\"dataframe\">\n",
       "  <thead>\n",
       "    <tr style=\"text-align: right;\">\n",
       "      <th></th>\n",
       "      <th>tranaction_id</th>\n",
       "      <th>customer_id</th>\n",
       "      <th>terminal_id</th>\n",
       "      <th>tx_amount</th>\n",
       "      <th>tx_time_seconds</th>\n",
       "      <th>tx_time_days</th>\n",
       "      <th>tx_fraud</th>\n",
       "      <th>tx_fraud_scenario</th>\n",
       "    </tr>\n",
       "  </thead>\n",
       "  <tbody>\n",
       "    <tr>\n",
       "      <th>count</th>\n",
       "      <td>350000.000000</td>\n",
       "      <td>350000.000000</td>\n",
       "      <td>3.500000e+05</td>\n",
       "      <td>350000.000000</td>\n",
       "      <td>350000.000000</td>\n",
       "      <td>350000.0</td>\n",
       "      <td>350000.000000</td>\n",
       "      <td>350000.000000</td>\n",
       "    </tr>\n",
       "    <tr>\n",
       "      <th>mean</th>\n",
       "      <td>174999.500000</td>\n",
       "      <td>112222.782117</td>\n",
       "      <td>2.609973e+04</td>\n",
       "      <td>54.207721</td>\n",
       "      <td>43173.563640</td>\n",
       "      <td>0.0</td>\n",
       "      <td>0.054686</td>\n",
       "      <td>0.110169</td>\n",
       "    </tr>\n",
       "    <tr>\n",
       "      <th>std</th>\n",
       "      <td>101036.441445</td>\n",
       "      <td>64738.615279</td>\n",
       "      <td>1.512909e+06</td>\n",
       "      <td>41.629973</td>\n",
       "      <td>18194.575823</td>\n",
       "      <td>0.0</td>\n",
       "      <td>0.227366</td>\n",
       "      <td>0.460134</td>\n",
       "    </tr>\n",
       "    <tr>\n",
       "      <th>min</th>\n",
       "      <td>0.000000</td>\n",
       "      <td>0.000000</td>\n",
       "      <td>0.000000e+00</td>\n",
       "      <td>0.000000</td>\n",
       "      <td>0.000000</td>\n",
       "      <td>0.0</td>\n",
       "      <td>0.000000</td>\n",
       "      <td>0.000000</td>\n",
       "    </tr>\n",
       "    <tr>\n",
       "      <th>25%</th>\n",
       "      <td>87499.750000</td>\n",
       "      <td>56035.000000</td>\n",
       "      <td>1.990000e+02</td>\n",
       "      <td>21.930000</td>\n",
       "      <td>30149.750000</td>\n",
       "      <td>0.0</td>\n",
       "      <td>0.000000</td>\n",
       "      <td>0.000000</td>\n",
       "    </tr>\n",
       "    <tr>\n",
       "      <th>50%</th>\n",
       "      <td>174999.500000</td>\n",
       "      <td>112363.500000</td>\n",
       "      <td>5.130000e+02</td>\n",
       "      <td>45.430000</td>\n",
       "      <td>43179.000000</td>\n",
       "      <td>0.0</td>\n",
       "      <td>0.000000</td>\n",
       "      <td>0.000000</td>\n",
       "    </tr>\n",
       "    <tr>\n",
       "      <th>75%</th>\n",
       "      <td>262499.250000</td>\n",
       "      <td>168357.250000</td>\n",
       "      <td>7.970000e+02</td>\n",
       "      <td>77.762500</td>\n",
       "      <td>56171.000000</td>\n",
       "      <td>0.0</td>\n",
       "      <td>0.000000</td>\n",
       "      <td>0.000000</td>\n",
       "    </tr>\n",
       "    <tr>\n",
       "      <th>max</th>\n",
       "      <td>349999.000000</td>\n",
       "      <td>224263.000000</td>\n",
       "      <td>8.951810e+07</td>\n",
       "      <td>3044.270000</td>\n",
       "      <td>86397.000000</td>\n",
       "      <td>0.0</td>\n",
       "      <td>1.000000</td>\n",
       "      <td>3.000000</td>\n",
       "    </tr>\n",
       "  </tbody>\n",
       "</table>\n",
       "</div>"
      ],
      "text/plain": [
       "       tranaction_id    customer_id   terminal_id      tx_amount  \\\n",
       "count  350000.000000  350000.000000  3.500000e+05  350000.000000   \n",
       "mean   174999.500000  112222.782117  2.609973e+04      54.207721   \n",
       "std    101036.441445   64738.615279  1.512909e+06      41.629973   \n",
       "min         0.000000       0.000000  0.000000e+00       0.000000   \n",
       "25%     87499.750000   56035.000000  1.990000e+02      21.930000   \n",
       "50%    174999.500000  112363.500000  5.130000e+02      45.430000   \n",
       "75%    262499.250000  168357.250000  7.970000e+02      77.762500   \n",
       "max    349999.000000  224263.000000  8.951810e+07    3044.270000   \n",
       "\n",
       "       tx_time_seconds  tx_time_days       tx_fraud  tx_fraud_scenario  \n",
       "count    350000.000000      350000.0  350000.000000      350000.000000  \n",
       "mean      43173.563640           0.0       0.054686           0.110169  \n",
       "std       18194.575823           0.0       0.227366           0.460134  \n",
       "min           0.000000           0.0       0.000000           0.000000  \n",
       "25%       30149.750000           0.0       0.000000           0.000000  \n",
       "50%       43179.000000           0.0       0.000000           0.000000  \n",
       "75%       56171.000000           0.0       0.000000           0.000000  \n",
       "max       86397.000000           0.0       1.000000           3.000000  "
      ]
     },
     "execution_count": 6,
     "metadata": {},
     "output_type": "execute_result"
    }
   ],
   "source": [
    "RawTransactions.describe()"
   ]
  },
  {
   "cell_type": "code",
   "execution_count": 20,
   "id": "8e1f19a8",
   "metadata": {},
   "outputs": [
    {
     "data": {
      "text/html": [
       "<div>\n",
       "<style scoped>\n",
       "    .dataframe tbody tr th:only-of-type {\n",
       "        vertical-align: middle;\n",
       "    }\n",
       "\n",
       "    .dataframe tbody tr th {\n",
       "        vertical-align: top;\n",
       "    }\n",
       "\n",
       "    .dataframe thead th {\n",
       "        text-align: right;\n",
       "    }\n",
       "</style>\n",
       "<table border=\"1\" class=\"dataframe\">\n",
       "  <thead>\n",
       "    <tr style=\"text-align: right;\">\n",
       "      <th></th>\n",
       "      <th>tranaction_id</th>\n",
       "      <th>tx_datetime</th>\n",
       "      <th>customer_id</th>\n",
       "      <th>terminal_id</th>\n",
       "      <th>tx_amount</th>\n",
       "      <th>tx_time_seconds</th>\n",
       "      <th>tx_time_days</th>\n",
       "      <th>tx_fraud</th>\n",
       "      <th>tx_fraud_scenario</th>\n",
       "      <th>parsing_error</th>\n",
       "    </tr>\n",
       "  </thead>\n",
       "  <tbody>\n",
       "    <tr>\n",
       "      <th>1</th>\n",
       "      <td>1</td>\n",
       "      <td>2019-08-22 05:10:37</td>\n",
       "      <td>0</td>\n",
       "      <td>0</td>\n",
       "      <td>90.55</td>\n",
       "      <td>18637</td>\n",
       "      <td>0</td>\n",
       "      <td>0</td>\n",
       "      <td>0</td>\n",
       "      <td>terminal_id=0;</td>\n",
       "    </tr>\n",
       "    <tr>\n",
       "      <th>3</th>\n",
       "      <td>3</td>\n",
       "      <td>2019-08-22 07:21:33</td>\n",
       "      <td>0</td>\n",
       "      <td>0</td>\n",
       "      <td>80.41</td>\n",
       "      <td>26493</td>\n",
       "      <td>0</td>\n",
       "      <td>0</td>\n",
       "      <td>0</td>\n",
       "      <td>terminal_id=0;</td>\n",
       "    </tr>\n",
       "    <tr>\n",
       "      <th>6</th>\n",
       "      <td>6</td>\n",
       "      <td>2019-08-22 03:12:21</td>\n",
       "      <td>3</td>\n",
       "      <td>0</td>\n",
       "      <td>47.20</td>\n",
       "      <td>11541</td>\n",
       "      <td>0</td>\n",
       "      <td>0</td>\n",
       "      <td>0</td>\n",
       "      <td>terminal_id=0;</td>\n",
       "    </tr>\n",
       "    <tr>\n",
       "      <th>12</th>\n",
       "      <td>12</td>\n",
       "      <td>2019-08-22 15:47:54</td>\n",
       "      <td>10</td>\n",
       "      <td>0</td>\n",
       "      <td>58.89</td>\n",
       "      <td>56874</td>\n",
       "      <td>0</td>\n",
       "      <td>0</td>\n",
       "      <td>0</td>\n",
       "      <td>terminal_id=0;</td>\n",
       "    </tr>\n",
       "    <tr>\n",
       "      <th>69</th>\n",
       "      <td>69</td>\n",
       "      <td>2019-08-22 12:00:23</td>\n",
       "      <td>44</td>\n",
       "      <td>0</td>\n",
       "      <td>70.64</td>\n",
       "      <td>43223</td>\n",
       "      <td>0</td>\n",
       "      <td>0</td>\n",
       "      <td>0</td>\n",
       "      <td>terminal_id=0;</td>\n",
       "    </tr>\n",
       "    <tr>\n",
       "      <th>...</th>\n",
       "      <td>...</td>\n",
       "      <td>...</td>\n",
       "      <td>...</td>\n",
       "      <td>...</td>\n",
       "      <td>...</td>\n",
       "      <td>...</td>\n",
       "      <td>...</td>\n",
       "      <td>...</td>\n",
       "      <td>...</td>\n",
       "      <td>...</td>\n",
       "    </tr>\n",
       "    <tr>\n",
       "      <th>349961</th>\n",
       "      <td>349961</td>\n",
       "      <td>2019-08-22 18:03:07</td>\n",
       "      <td>224242</td>\n",
       "      <td>0</td>\n",
       "      <td>109.14</td>\n",
       "      <td>64987</td>\n",
       "      <td>0</td>\n",
       "      <td>0</td>\n",
       "      <td>0</td>\n",
       "      <td>terminal_id=0;</td>\n",
       "    </tr>\n",
       "    <tr>\n",
       "      <th>349972</th>\n",
       "      <td>349972</td>\n",
       "      <td>2019-08-22 23:54:35</td>\n",
       "      <td>224251</td>\n",
       "      <td>0</td>\n",
       "      <td>37.96</td>\n",
       "      <td>86075</td>\n",
       "      <td>0</td>\n",
       "      <td>0</td>\n",
       "      <td>0</td>\n",
       "      <td>terminal_id=0;</td>\n",
       "    </tr>\n",
       "    <tr>\n",
       "      <th>349977</th>\n",
       "      <td>349977</td>\n",
       "      <td>2019-08-22 12:50:21</td>\n",
       "      <td>224255</td>\n",
       "      <td>0</td>\n",
       "      <td>68.31</td>\n",
       "      <td>46221</td>\n",
       "      <td>0</td>\n",
       "      <td>0</td>\n",
       "      <td>0</td>\n",
       "      <td>terminal_id=0;</td>\n",
       "    </tr>\n",
       "    <tr>\n",
       "      <th>349979</th>\n",
       "      <td>349979</td>\n",
       "      <td>2019-08-22 09:39:13</td>\n",
       "      <td>224255</td>\n",
       "      <td>0</td>\n",
       "      <td>79.11</td>\n",
       "      <td>34753</td>\n",
       "      <td>0</td>\n",
       "      <td>0</td>\n",
       "      <td>0</td>\n",
       "      <td>terminal_id=0;</td>\n",
       "    </tr>\n",
       "    <tr>\n",
       "      <th>349993</th>\n",
       "      <td>349993</td>\n",
       "      <td>2019-08-22 16:38:45</td>\n",
       "      <td>224262</td>\n",
       "      <td>0</td>\n",
       "      <td>66.43</td>\n",
       "      <td>59925</td>\n",
       "      <td>0</td>\n",
       "      <td>0</td>\n",
       "      <td>0</td>\n",
       "      <td>terminal_id=0;</td>\n",
       "    </tr>\n",
       "  </tbody>\n",
       "</table>\n",
       "<p>15645 rows × 10 columns</p>\n",
       "</div>"
      ],
      "text/plain": [
       "        tranaction_id         tx_datetime  customer_id  terminal_id  \\\n",
       "1                   1 2019-08-22 05:10:37            0            0   \n",
       "3                   3 2019-08-22 07:21:33            0            0   \n",
       "6                   6 2019-08-22 03:12:21            3            0   \n",
       "12                 12 2019-08-22 15:47:54           10            0   \n",
       "69                 69 2019-08-22 12:00:23           44            0   \n",
       "...               ...                 ...          ...          ...   \n",
       "349961         349961 2019-08-22 18:03:07       224242            0   \n",
       "349972         349972 2019-08-22 23:54:35       224251            0   \n",
       "349977         349977 2019-08-22 12:50:21       224255            0   \n",
       "349979         349979 2019-08-22 09:39:13       224255            0   \n",
       "349993         349993 2019-08-22 16:38:45       224262            0   \n",
       "\n",
       "        tx_amount  tx_time_seconds  tx_time_days  tx_fraud  tx_fraud_scenario  \\\n",
       "1           90.55            18637             0         0                  0   \n",
       "3           80.41            26493             0         0                  0   \n",
       "6           47.20            11541             0         0                  0   \n",
       "12          58.89            56874             0         0                  0   \n",
       "69          70.64            43223             0         0                  0   \n",
       "...           ...              ...           ...       ...                ...   \n",
       "349961     109.14            64987             0         0                  0   \n",
       "349972      37.96            86075             0         0                  0   \n",
       "349977      68.31            46221             0         0                  0   \n",
       "349979      79.11            34753             0         0                  0   \n",
       "349993      66.43            59925             0         0                  0   \n",
       "\n",
       "          parsing_error  \n",
       "1       terminal_id=0;   \n",
       "3       terminal_id=0;   \n",
       "6       terminal_id=0;   \n",
       "12      terminal_id=0;   \n",
       "69      terminal_id=0;   \n",
       "...                 ...  \n",
       "349961  terminal_id=0;   \n",
       "349972  terminal_id=0;   \n",
       "349977  terminal_id=0;   \n",
       "349979  terminal_id=0;   \n",
       "349993  terminal_id=0;   \n",
       "\n",
       "[15645 rows x 10 columns]"
      ]
     },
     "execution_count": 20,
     "metadata": {},
     "output_type": "execute_result"
    }
   ],
   "source": [
    "parsing_error = RawTransactions[RawTransactions['parsing_error'] != '']\n",
    "parsing_error"
   ]
  },
  {
   "cell_type": "code",
   "execution_count": 21,
   "id": "c3f22447",
   "metadata": {},
   "outputs": [],
   "source": [
    "parsing_error.to_excel(\"parsing_error.xlsx\", sheet_name=\"parsing_error\", index=False)"
   ]
  },
  {
   "cell_type": "code",
   "execution_count": 23,
   "id": "af1ee96d",
   "metadata": {},
   "outputs": [
    {
     "data": {
      "text/plain": [
       "<seaborn.axisgrid.FacetGrid at 0x7f81940dab50>"
      ]
     },
     "execution_count": 23,
     "metadata": {},
     "output_type": "execute_result"
    },
    {
     "data": {
      "image/png": "[encoded data removed]",
      "text/plain": [
       "<Figure size 500x500 with 1 Axes>"
      ]
     },
     "metadata": {},
     "output_type": "display_data"
    }
   ],
   "source": [
    "sns.displot(RawTransactions['tx_amount'])"
   ]
  },
  {
   "cell_type": "code",
   "execution_count": 24,
   "id": "02ce1a33",
   "metadata": {},
   "outputs": [
    {
     "data": {
      "text/plain": [
       "<seaborn.axisgrid.FacetGrid at 0x7f81d44dbca0>"
      ]
     },
     "execution_count": 24,
     "metadata": {},
     "output_type": "execute_result"
    },
    {
     "data": {
      "image/png": "[encoded data removed]",
      "text/plain": [
       "<Figure size 500x500 with 1 Axes>"
      ]
     },
     "metadata": {},
     "output_type": "display_data"
    }
   ],
   "source": [
    "sns.displot(RawTransactions['customer_id'])"
   ]
  },
  {
   "cell_type": "code",
   "execution_count": null,
   "id": "4bca1918",
   "metadata": {},
   "outputs": [],
   "source": [
    "RawTransactions['customer_id'].value_counts()"
   ]
  },
  {
   "cell_type": "code",
   "execution_count": null,
   "id": "779c115c",
   "metadata": {},
   "outputs": [],
   "source": [
    "sns.displot(RawTransactions['terminal_id'])"
   ]
  },
  {
   "cell_type": "code",
   "execution_count": null,
   "id": "7cfe96b4",
   "metadata": {},
   "outputs": [],
   "source": [
    "RawTransactions['terminal_id'].value_counts()"
   ]
  },
  {
   "cell_type": "code",
   "execution_count": null,
   "id": "2fd200ad",
   "metadata": {},
   "outputs": [],
   "source": [
    "sns.displot(RawTransactions['tx_fraud'])"
   ]
  },
  {
   "cell_type": "code",
   "execution_count": null,
   "id": "a5bc0dfd",
   "metadata": {},
   "outputs": [],
   "source": [
    "RawTransactions['tx_fraud'].value_counts()"
   ]
  },
  {
   "cell_type": "code",
   "execution_count": null,
   "id": "cc224e70",
   "metadata": {},
   "outputs": [],
   "source": [
    "sns.displot(RawTransactions['tx_fraud_scenario'])"
   ]
  },
  {
   "cell_type": "code",
   "execution_count": null,
   "id": "d6a124d9",
   "metadata": {},
   "outputs": [],
   "source": [
    "RawTransactions['tx_fraud_scenario].value_counts()"
   ]
  },
  {
   "cell_type": "code",
   "execution_count": null,
   "id": "b4dec7ed",
   "metadata": {},
   "outputs": [],
   "source": [
    "sns.displot(RawTransactions['tx_time_seconds'])"
   ]
  },
  {
   "cell_type": "code",
   "execution_count": null,
   "id": "839e2bf3",
   "metadata": {},
   "outputs": [],
   "source": [
    "sns.displot(RawTransactions['tx_time_days'])"
   ]
  }
 ],
 "metadata": {
  "kernelspec": {
   "display_name": "Python 3 (ipykernel)",
   "language": "python",
   "name": "python3"
  },
  "language_info": {
   "codemirror_mode": {
    "name": "ipython",
    "version": 3
   },
   "file_extension": ".py",
   "mimetype": "text/x-python",
   "name": "python",
   "nbconvert_exporter": "python",
   "pygments_lexer": "ipython3",
   "version": "3.9.13"
  }
 },
 "nbformat": 4,
 "nbformat_minor": 5
}
